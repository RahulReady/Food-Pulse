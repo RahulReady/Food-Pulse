{
 "metadata": {
  "language_info": {
   "codemirror_mode": {
    "name": "ipython",
    "version": 3
   },
   "file_extension": ".py",
   "mimetype": "text/x-python",
   "name": "python",
   "nbconvert_exporter": "python",
   "pygments_lexer": "ipython3",
   "version": "3.8.0-final"
  },
  "orig_nbformat": 2,
  "kernelspec": {
   "name": "Python 3.8.0 64-bit ('venv')",
   "display_name": "Python 3.8.0 64-bit ('venv')",
   "metadata": {
    "interpreter": {
     "hash": "2719c2908424dddabae3ed92cb5bd9882ccf77dbb5b00c1cb899d962308bf0b2"
    }
   }
  }
 },
 "nbformat": 4,
 "nbformat_minor": 2,
 "cells": [
  {
   "source": [
    "### Imports"
   ],
   "cell_type": "markdown",
   "metadata": {}
  },
  {
   "cell_type": "code",
   "execution_count": 6,
   "metadata": {},
   "outputs": [],
   "source": [
    "from pathlib import Path\n",
    "import pandas as pd"
   ]
  },
  {
   "source": [
    "### File Reading"
   ],
   "cell_type": "markdown",
   "metadata": {}
  },
  {
   "cell_type": "code",
   "execution_count": 7,
   "metadata": {},
   "outputs": [],
   "source": [
    "path = Path('.') # cwd\n",
    "path = path / 'ner_dataset.csv' # adding file path"
   ]
  },
  {
   "cell_type": "code",
   "execution_count": 8,
   "metadata": {},
   "outputs": [],
   "source": [
    "data = pd.read_csv(path, encoding = 'unicode_escape')"
   ]
  },
  {
   "source": [
    "### Analysis"
   ],
   "cell_type": "markdown",
   "metadata": {}
  },
  {
   "cell_type": "code",
   "execution_count": 9,
   "metadata": {},
   "outputs": [
    {
     "output_type": "execute_result",
     "data": {
      "text/plain": [
       "    Sentence #           Word  POS    Tag\n",
       "0  Sentence: 1      Thousands  NNS      O\n",
       "1          NaN             of   IN      O\n",
       "2          NaN  demonstrators  NNS      O\n",
       "3          NaN           have  VBP      O\n",
       "4          NaN        marched  VBN      O\n",
       "5          NaN        through   IN      O\n",
       "6          NaN         London  NNP  B-geo\n",
       "7          NaN             to   TO      O\n",
       "8          NaN        protest   VB      O\n",
       "9          NaN            the   DT      O"
      ],
      "text/html": "<div>\n<style scoped>\n    .dataframe tbody tr th:only-of-type {\n        vertical-align: middle;\n    }\n\n    .dataframe tbody tr th {\n        vertical-align: top;\n    }\n\n    .dataframe thead th {\n        text-align: right;\n    }\n</style>\n<table border=\"1\" class=\"dataframe\">\n  <thead>\n    <tr style=\"text-align: right;\">\n      <th></th>\n      <th>Sentence #</th>\n      <th>Word</th>\n      <th>POS</th>\n      <th>Tag</th>\n    </tr>\n  </thead>\n  <tbody>\n    <tr>\n      <th>0</th>\n      <td>Sentence: 1</td>\n      <td>Thousands</td>\n      <td>NNS</td>\n      <td>O</td>\n    </tr>\n    <tr>\n      <th>1</th>\n      <td>NaN</td>\n      <td>of</td>\n      <td>IN</td>\n      <td>O</td>\n    </tr>\n    <tr>\n      <th>2</th>\n      <td>NaN</td>\n      <td>demonstrators</td>\n      <td>NNS</td>\n      <td>O</td>\n    </tr>\n    <tr>\n      <th>3</th>\n      <td>NaN</td>\n      <td>have</td>\n      <td>VBP</td>\n      <td>O</td>\n    </tr>\n    <tr>\n      <th>4</th>\n      <td>NaN</td>\n      <td>marched</td>\n      <td>VBN</td>\n      <td>O</td>\n    </tr>\n    <tr>\n      <th>5</th>\n      <td>NaN</td>\n      <td>through</td>\n      <td>IN</td>\n      <td>O</td>\n    </tr>\n    <tr>\n      <th>6</th>\n      <td>NaN</td>\n      <td>London</td>\n      <td>NNP</td>\n      <td>B-geo</td>\n    </tr>\n    <tr>\n      <th>7</th>\n      <td>NaN</td>\n      <td>to</td>\n      <td>TO</td>\n      <td>O</td>\n    </tr>\n    <tr>\n      <th>8</th>\n      <td>NaN</td>\n      <td>protest</td>\n      <td>VB</td>\n      <td>O</td>\n    </tr>\n    <tr>\n      <th>9</th>\n      <td>NaN</td>\n      <td>the</td>\n      <td>DT</td>\n      <td>O</td>\n    </tr>\n  </tbody>\n</table>\n</div>"
     },
     "metadata": {},
     "execution_count": 9
    }
   ],
   "source": [
    "data.head(10)"
   ]
  },
  {
   "cell_type": "code",
   "execution_count": 6,
   "metadata": {},
   "outputs": [],
   "source": [
    "# Imputing missing values with last known sentence value\n",
    "data = data.fillna(method = 'ffill')"
   ]
  },
  {
   "cell_type": "code",
   "execution_count": 7,
   "metadata": {},
   "outputs": [
    {
     "output_type": "execute_result",
     "data": {
      "text/plain": [
       "              Sentence #       Word  POS    Tag\n",
       "1048565  Sentence: 47958     impact   NN      O\n",
       "1048566  Sentence: 47958          .    .      O\n",
       "1048567  Sentence: 47959     Indian   JJ  B-gpe\n",
       "1048568  Sentence: 47959     forces  NNS      O\n",
       "1048569  Sentence: 47959       said  VBD      O\n",
       "1048570  Sentence: 47959       they  PRP      O\n",
       "1048571  Sentence: 47959  responded  VBD      O\n",
       "1048572  Sentence: 47959         to   TO      O\n",
       "1048573  Sentence: 47959        the   DT      O\n",
       "1048574  Sentence: 47959     attack   NN      O"
      ],
      "text/html": "<div>\n<style scoped>\n    .dataframe tbody tr th:only-of-type {\n        vertical-align: middle;\n    }\n\n    .dataframe tbody tr th {\n        vertical-align: top;\n    }\n\n    .dataframe thead th {\n        text-align: right;\n    }\n</style>\n<table border=\"1\" class=\"dataframe\">\n  <thead>\n    <tr style=\"text-align: right;\">\n      <th></th>\n      <th>Sentence #</th>\n      <th>Word</th>\n      <th>POS</th>\n      <th>Tag</th>\n    </tr>\n  </thead>\n  <tbody>\n    <tr>\n      <th>1048565</th>\n      <td>Sentence: 47958</td>\n      <td>impact</td>\n      <td>NN</td>\n      <td>O</td>\n    </tr>\n    <tr>\n      <th>1048566</th>\n      <td>Sentence: 47958</td>\n      <td>.</td>\n      <td>.</td>\n      <td>O</td>\n    </tr>\n    <tr>\n      <th>1048567</th>\n      <td>Sentence: 47959</td>\n      <td>Indian</td>\n      <td>JJ</td>\n      <td>B-gpe</td>\n    </tr>\n    <tr>\n      <th>1048568</th>\n      <td>Sentence: 47959</td>\n      <td>forces</td>\n      <td>NNS</td>\n      <td>O</td>\n    </tr>\n    <tr>\n      <th>1048569</th>\n      <td>Sentence: 47959</td>\n      <td>said</td>\n      <td>VBD</td>\n      <td>O</td>\n    </tr>\n    <tr>\n      <th>1048570</th>\n      <td>Sentence: 47959</td>\n      <td>they</td>\n      <td>PRP</td>\n      <td>O</td>\n    </tr>\n    <tr>\n      <th>1048571</th>\n      <td>Sentence: 47959</td>\n      <td>responded</td>\n      <td>VBD</td>\n      <td>O</td>\n    </tr>\n    <tr>\n      <th>1048572</th>\n      <td>Sentence: 47959</td>\n      <td>to</td>\n      <td>TO</td>\n      <td>O</td>\n    </tr>\n    <tr>\n      <th>1048573</th>\n      <td>Sentence: 47959</td>\n      <td>the</td>\n      <td>DT</td>\n      <td>O</td>\n    </tr>\n    <tr>\n      <th>1048574</th>\n      <td>Sentence: 47959</td>\n      <td>attack</td>\n      <td>NN</td>\n      <td>O</td>\n    </tr>\n  </tbody>\n</table>\n</div>"
     },
     "metadata": {},
     "execution_count": 7
    }
   ],
   "source": [
    "data.tail(10)"
   ]
  },
  {
   "cell_type": "code",
   "execution_count": 8,
   "metadata": {},
   "outputs": [],
   "source": [
    "#data['POS'].value_counts()"
   ]
  },
  {
   "cell_type": "code",
   "execution_count": 9,
   "metadata": {},
   "outputs": [],
   "source": [
    "# Unique words \n",
    "words = list(set(data['Word'].values))\n",
    "n_words = len(words)"
   ]
  },
  {
   "cell_type": "code",
   "execution_count": 10,
   "metadata": {},
   "outputs": [
    {
     "output_type": "execute_result",
     "data": {
      "text/plain": [
       "35178"
      ]
     },
     "metadata": {},
     "execution_count": 10
    }
   ],
   "source": [
    "n_words"
   ]
  },
  {
   "cell_type": "code",
   "execution_count": 11,
   "metadata": {},
   "outputs": [],
   "source": [
    "class SentenceGetter(object):\n",
    "    \n",
    "    def __init__(self, data):\n",
    "        self.n_sent = 1\n",
    "        self.data = data\n",
    "        self.empty = False\n",
    "        agg_func = lambda s: [(w, p, t) for w, p, t in zip(s[\"Word\"].values.tolist(),\n",
    "                                                           s[\"POS\"].values.tolist(),\n",
    "                                                           s[\"Tag\"].values.tolist())]\n",
    "        self.grouped = self.data.groupby(\"Sentence #\").apply(agg_func)\n",
    "        self.sentences = [s for s in self.grouped]\n",
    "    \n",
    "    def get_next(self):\n",
    "        try:\n",
    "            s = self.grouped[\"Sentence: {}\".format(self.n_sent)]\n",
    "            self.n_sent += 1\n",
    "            return s\n",
    "        except:\n",
    "            return None\n"
   ]
  },
  {
   "cell_type": "code",
   "execution_count": 69,
   "metadata": {},
   "outputs": [],
   "source": [
    "getter = SentenceGetter(data)"
   ]
  },
  {
   "cell_type": "code",
   "execution_count": 70,
   "metadata": {},
   "outputs": [],
   "source": [
    "sent = getter.get_next()"
   ]
  },
  {
   "cell_type": "code",
   "execution_count": 71,
   "metadata": {},
   "outputs": [
    {
     "output_type": "stream",
     "name": "stdout",
     "text": [
      "[('Thousands', 'NNS', 'O'), ('of', 'IN', 'O'), ('demonstrators', 'NNS', 'O'), ('have', 'VBP', 'O'), ('marched', 'VBN', 'O'), ('through', 'IN', 'O'), ('London', 'NNP', 'B-geo'), ('to', 'TO', 'O'), ('protest', 'VB', 'O'), ('the', 'DT', 'O'), ('war', 'NN', 'O'), ('in', 'IN', 'O'), ('Iraq', 'NNP', 'B-geo'), ('and', 'CC', 'O'), ('demand', 'VB', 'O'), ('the', 'DT', 'O'), ('withdrawal', 'NN', 'O'), ('of', 'IN', 'O'), ('British', 'JJ', 'B-gpe'), ('troops', 'NNS', 'O'), ('from', 'IN', 'O'), ('that', 'DT', 'O'), ('country', 'NN', 'O'), ('.', '.', 'O')]\n"
     ]
    }
   ],
   "source": [
    "print(sent)"
   ]
  },
  {
   "cell_type": "code",
   "execution_count": 72,
   "metadata": {},
   "outputs": [],
   "source": [
    "sentences = getter.sentences"
   ]
  },
  {
   "cell_type": "code",
   "execution_count": 74,
   "metadata": {},
   "outputs": [],
   "source": [
    "sentences = sentences[0:3]"
   ]
  },
  {
   "cell_type": "code",
   "execution_count": 18,
   "metadata": {},
   "outputs": [
    {
     "output_type": "execute_result",
     "data": {
      "text/plain": [
       "O        887908\n",
       "B-geo     37644\n",
       "B-tim     20333\n",
       "B-org     20143\n",
       "I-per     17251\n",
       "B-per     16990\n",
       "I-org     16784\n",
       "B-gpe     15870\n",
       "I-geo      7414\n",
       "I-tim      6528\n",
       "B-art       402\n",
       "B-eve       308\n",
       "I-art       297\n",
       "I-eve       253\n",
       "B-nat       201\n",
       "I-gpe       198\n",
       "I-nat        51\n",
       "Name: Tag, dtype: int64"
      ]
     },
     "metadata": {},
     "execution_count": 18
    }
   ],
   "source": [
    "data['Tag'].value_counts()"
   ]
  },
  {
   "cell_type": "code",
   "execution_count": 47,
   "metadata": {},
   "outputs": [],
   "source": [
    "# Key words in text\n",
    "start = '<START:food>'\n",
    "end = '<END>'\n",
    "apos = \"'\"\n",
    "\n",
    "replace_vals = {start:'', end:'', apos:''}\n",
    "# Function to replace keywords with ''\n",
    "def replace_all(text, dic):\n",
    "    '''\n",
    "    Replace all the words in the text with the items from the dictionary\n",
    "    '''\n",
    "    for i,j in dic.items():\n",
    "        text = text.replace(i,j)\n",
    "    text = \" \".join(text.split())\n",
    "    return text"
   ]
  },
  {
   "cell_type": "code",
   "execution_count": 48,
   "metadata": {
    "tags": [
     "outputPrepend"
    ]
   },
   "outputs": [
    {
     "output_type": "stream",
     "name": "stdout",
     "text": [
      "<START:food>  fish <END>  tacos which were great \n",
      "\n",
      "my friend got the  <START:food>  quesadillas <END>  they were the bomb \n",
      "\n",
      "the super  <START:food>  nachos <END>  are off the hook \n",
      "\n",
      "i haven't had better  <START:food>  nachos <END>  here in las vegas from one of these fast food type joints \n",
      "\n",
      "they are huge, with chicken, shredded  <START:food>  beef <END>  and carne asade \n",
      "\n",
      " <START:food>  chicken <END>  crispy taco was \n",
      "\n",
      "el  <START:food>  taco <END>  feliz is just that place \n",
      "\n",
      "the  <START:food>  carnitas <END>  tacos are super fatty that is what i liked about them \n",
      "\n",
      "the massive amount of  <START:food> meat <END>  is also a plus \n",
      "\n",
      "the rolled  <START:food>  tacos <END>  were okay \n",
      "\n",
      "my  <START:food>  enchilada <END>  and bean burrito combo was nothing special, just tasted bland \n",
      "\n",
      "delicious  <START:food>  mexican food <END>  for cheap \n",
      "\n",
      "it was a good size portion of chirzo and eggs, beans, rice, 3  <START:food>  tortillas <END>  \n",
      "\n",
      "Will stop by again and maybe i'll try the  <START:food>  carnitas <END>  \n",
      "\n",
      "i'm currently only eating paleo the owner let me trade items in and out to basically create a  <START:food>  chicken <END>   <START:food>  fajitas <END>  place with only  <START:food>  meat <END>  lots of extra veggies with guac \n",
      "\n",
      "Definitely better than any  <START:food>  mexican food <END>  in oregon \n",
      "\n",
      "i've become a huge fan not only because I'm a  <START:food>  mexican food <END>  junkie, i love that they'll deliver to my area \n",
      "\n",
      "i particularly dig the  <START:food>  chimichangas <END>  \n",
      "\n",
      " <START:food> soda <END>  was flat, didn't have any napkins poorly lit, dirty and there's much better options in vegas \n",
      "\n",
      "By  <START:food> burrito <END>  barely had any  <START:food>  meat <END>  in it my fianc didn't even want to touch her  <START:food>  taco salad <END>  \n",
      "\n",
      "highly recommend the  <START:food>  fajitas <END>  if you're somewhat pressed on time be \n",
      "\n",
      "Grabbed a couple of breakfast  <START:food>  burritos <END>  this morning \n",
      "\n",
      "the  <START:food>  burritos <END>  were pretty good the guy put on plastic gloves to make the food, handled my money, then counted change started making them with the same gloves \n",
      "\n",
      "they should update their prices, if they did, i probably would not have ordered in the first placethe  <START:food>  nachos <END>  were good the items in the sampler were unseasoned bland \n",
      "\n",
      " <START:food> carne <END>  asada tacos,  <START:food>  chicken <END>  nachos, carnitas burritos,  <START:food>  burgers <END>   <START:food>  chicken <END>  tenders \n",
      "\n",
      "what i want is a place that knows how to pull a pint of guinness properly and for god's sake, be able to cook a  <START:food>  potato <END>  \n",
      "\n",
      "So, the guinness is correct, they actually have more than just the 2 standard irish which is nice for a change, as to the spuds, they serve a big plate of fresh cut  <START:food>  potato <END>  chips with marie rose sauce for dipping, which are proof \n",
      "\n",
      "they're perfect for snacking while drinking, they also serve really great  <START:food>  fish <END>  and chips, stew, corned  <START:food>  beef <END>  and cabbage, the usual suspects \n",
      "\n",
      "the irish breakfast has made me reconsider  <START:food> beans <END>  as a breakfast food, i think i am better for it \n",
      "\n",
      "the only thing i have had there that i was not 100 happy with was the  <START:food>  corned beef <END>  cabbage, and that's just probably because it was different than grandma's, which is a problem i have at italian restaurants too \n",
      "\n",
      "additional star for, despite all this, being a fun place to do the great guinness  <START:food>  toast <END>  although i'm sure it could have been more fun in another venue \n",
      "\n",
      "that would be like saying that the venetian makes you feel just like you are floating down a canal in italy that the new york new york is the big  <START:food>  apple <END>  of your eye \n",
      "\n",
      "what you get in vegas are suggestions small glimpses of places that actually exist, done up in bright lights with a  <START:food>  dash <END>  of tacky a facade of what the real thing might slightly resemble \n",
      "\n",
      "the  <START:food>  chips <END>  are awesome order the  <START:food>  chips <END>  \n",
      "\n",
      "order the  <START:food>  chips <END>  \n",
      "\n",
      "i ended up sharing some fantastic  <START:food>  potato <END>  chip nachos with my friends, meeting some new friends, \n",
      "\n",
      "i wasn't that hungry to begin with one look down the menu had me ordering  <START:food>  beef <END>  stew w guiness \n",
      "\n",
      "i was thinking  <START:food> soup <END>  more than stew for some reason so when a huge bowl was served to me, i was taken aback \n",
      "\n",
      "what to order guiness, a veggie burger, and  <START:food>  mashed potatoes <END>  \n",
      "\n",
      "i don't participate it's all  <START:food>  gravy <END>  \n",
      "\n",
      "the  <START:food>  shepherd's pie <END>  is wonderful as is the farmhouse irish breakfast \n",
      "\n",
      "After catching a few winks we were back again for christmas breakfast of a few more guinness  <START:food>  corned beef <END>  hash and eggs \n",
      "\n",
      "this is the first time i've been in an irish pub have had irish foodand i absolutely love itwe weren't planning on having dinner herewe just saw that there was not wait for a tableso we stepped ini'm a huge beer drinker my sisters they loved itour waiter even had a thick irish accentso freaking adorablebut the food was absolutely fabulousi had the braised  <START:food>  beef <END>  my sisters had the  <START:food>  pork <END>  tenderloinwe basically licked the platethis will definitely be one of the have to go to places in vegas \n",
      "\n",
      "mcmullan's pub features all the  <START:food>  beverages <END>  that you would expect in an irish joint with the food being a definite step above usual bar fare \n",
      "\n",
      "chill atmosphere, good irish  <START:food>  nachos <END>  \n",
      "\n",
      "they went out of their way to make sure that everything was perfect, including creating a makeshift  <START:food>  cake <END>  stand for my  <START:food>  wedding cake <END>  \n",
      "\n",
      "we had the irish  <START:food>  sausage rolls <END>  which were phenomenal, as well as stuffed mushrooms, chicken  <START:food>  pot pie <END>  the  <START:food>  fish <END>   <START:food> chips <END>  \n",
      "\n",
      "highly recommend the  <START:food>  fish <END>   <START:food> chips <END>  \n",
      "\n",
      "my only complaint was that the main entrees weren't served at the same time so people gobbled up the  <START:food>  fish and chips <END>  in 2 seconds some people had to wait 10 minutes before the next entree came out \n",
      "\n",
      "i enjoyed the  <START:food>  corned beef <END>   <START:food> cabbage <END>  the fries i stole off of my sister's plate \n",
      "\n",
      "it has atmosphere, good food, great  <START:food>  brews <END>  of all kinds \n",
      "\n",
      "we ordered a  <START:food>  fish and chip <END>  happy hour snack for 299 was happy with the food quality \n",
      "\n",
      "the irish  <START:food>  nachos <END>  were tasty, the ambience was chill, as it was super late in the evening, the company \n",
      "\n",
      "shepards  <START:food>  pie <END>  was \n",
      "\n",
      " <START:food>  fish <END>  chips are pure money definately start with the warm  <START:food>  curry <END>   <START:food> chips <END>  \n",
      "\n",
      "Try the  <START:food>  irish stew <END>  ridiculously good and hella hearty \n",
      "\n",
      "i love the irish reuben and homemade  <START:food>  potato <END>  chips \n",
      "\n",
      "a couple of those monarchists came in oncein most irish pubs they would have downed them in a  <START:food>  barrel <END>  of old guinesshereit was more the sissy slap versionthey got some foam in their beer \n",
      "\n",
      "they have the best  <START:food>  fish and chips <END>  in las vegas \n",
      "\n",
      "they have amazing happy hour specialsand the best is the irish  <START:food>  nachos <END>  \n",
      "\n",
      " <START:food>  fish and chips <END>  are delicious as is the shepherd's pie,  <START:food>  steak <END>  and mushroom pie, and curry pie \n",
      "\n",
      "Good for early morning drinking because their  <START:food>  screwdrivers <END>  are the best \n",
      "\n",
      "they squeeze fresh  <START:food>  orange juice <END>  right at the baryum \n",
      "\n",
      "Of course i was coming down off of paint fumes, gas fumes,  <START:food>  turpentine <END>  a pill someone told me would turn me into a donkey, all i kept seeing was buddy epson \n",
      "\n",
      "the irish are known for bad musicbono, riverdancers,  <START:food>  charlotte <END>  church, etc this is americawe love good bar music \n",
      "\n",
      "Once you enter mcmullan's irish pub this is as authentic as you can get without the expense of flying over the atlantic the  <START:food>  ale <END>  induced atmosphere with every breath you take the musky  <START:food>  aroma <END>  from the dark wood paneling in each room Banners jerseys hanging from the rafters of all the beloved soccer teams in the isles \n",
      "\n",
      "Never saw or been in as large a pub in the uk probably an american thing  <START:food>  a las <END>  vegas thing \n",
      "\n",
      "the private event 's menu consisted of the followingfirst course fine old fashioned greens with tomatoes, onions, carrots,  <START:food>  cucumber <END>  herb croutons \n",
      "\n",
      "dressing ranch balsamic  <START:food>  vinaigrette <END>  \n",
      "\n",
      "never did  <START:food> salads <END>  well despite the abundance of ranch dressing, which i ordered with the  <START:food>  salad <END>  \n",
      "\n",
      "second course coast road inn  <START:food>  fish <END>  chips named for the old family pub back in ireland \n",
      "\n",
      "three beer battered north atlantic  <START:food>  cod <END>  fillets with frieds, coleslaw  <START:food>  tartar sauce <END>  a lighter bite succulent, blackened  <START:food>  chicken <END>  served with a medley of fresh, sauteed  <START:food>  vegetables <END>  \n",
      "\n",
      "comment don't do  <START:food> chicken <END>  at a pub \n",
      "\n",
      "it seemed only one of the three  <START:food>  fillets <END>  were even consumed \n",
      "\n",
      " <START:food> steak <END>  Mushroom Irish  <START:food>  pie <END>  tuck in to an irish tradition \n",
      "\n",
      "a wonderful, flaky crusted pie, served with  <START:food>  mashed potatoes <END>   <START:food> peas <END>  \n",
      "\n",
      "two of my kids ate at my table Like dad, they also ordered the  <START:food>  steak <END>  mushroom pie avoiding the blackened  <START:food>  chicken <END>  \n",
      "\n",
      "about 5 round  <START:food>  pie <END>  with a lot of  <START:food> meat <END>  thickly sliced  <START:food>  mushrooms <END>  and gravy \n",
      "\n",
      "With a mound of  <START:food>  mashed potatoes <END>   <START:food> peas <END>  on the side \n",
      "\n",
      "i commented to the rest of the table that the  <START:food>  gravy <END>  to be poured over the  <START:food>  mashed potatoes <END>  was whiskey \n",
      "\n",
      "All the blackened  <START:food>  chicken <END>  diners asked for some  <START:food>  gravy <END>  which was poured over their  <START:food>  chicken <END>  \n",
      "\n",
      "this didn't help their appetites, unfortunately most of the blackened  <START:food>  chicken <END>  remained on their plates \n",
      "\n",
      "remember, irish and  <START:food>  english food <END>  is hearty and robust are known to be not very flavorful \n",
      "\n",
      "the  <START:food>  steak <END>  mushroom pie is very authentic for \n",
      "\n",
      "third course sticky  <START:food>  toffee <END>  pudding the traditional irish dessert \n",
      "\n",
      "it was a  <START:food>  toffee <END>  pudding \n",
      "\n",
      "the dessert was a spongy, dark  <START:food>  cake <END>  soaked in a thick  <START:food>  toffee <END>  sauce \n",
      "\n",
      "i WANT came with a cup of  <START:food> coffee <END>  which was uneventfulHard Cider two tall glasses of cider, just as i remember from the euro trip \n",
      "\n",
      "remember when dining irish english don't order  <START:food>  chicken <END>  anything \n",
      "\n",
      "the bartenders give me grief when i ask for wine i order a  <START:food>  coffee <END>  with baileys, kahlua frangelico it's never that great \n",
      "\n",
      "i think thursdays are you can eat  <START:food>  fish <END>  chips \n",
      "\n",
      "they have a nice beer selection can turn out wonderful  <START:food>  cocktails <END>  as well \n",
      "\n",
      "Also the food is pretty good, on that note i might add that the irish  <START:food>  nachos <END>  are humorous and tasty \n",
      "\n",
      "the food at mcmullans is really really good, i usually opt for the irish  <START:food>  nachos <END>  this time i opted for a full meal \n",
      "\n",
      "i know old review from my blog, I'm moving a bunch of them over herethere were 3 things i was debating between, the shepard's pie, irish stew, meatloaf, i then noticed they had an irish sampler that included both the  <START:food>  pie <END>  the stew plus  <START:food>  corned beef and cabbage <END>  so i decided to give it a try \n",
      "\n",
      "i first had the  <START:food>  corn <END>  beef cabbage, i am a huge fan of this usually, the beef, carrots, and  <START:food>  broth <END>  were amazing, i'm not a big fan of cooked cabbage, i had a few pieces it was good, i didn't finish it \n",
      "\n",
      "next up was the irish stew, it had huge chunks of potato, carrot, celery, and beef, if a great  <START:food>  brown gravy <END>  \n",
      "\n",
      "the meal was also served with some homebaked  <START:food>  brown <END>  bread, it was a really heavy  <START:food>  rye bread <END>  soaked up the  <START:food>  gravy <END>  and broth perfectly was a nice addition to the meal \n",
      "\n",
      "i washed it down with a  <START:food>  black velvet <END>  \n",
      "\n",
      "i ordered ann's blackened  <START:food>  chicken <END>  salad, which was boldly flavorful, topped with crispy onion straws  <START:food> vegetables <END>  like  <START:food>  red peppers <END>   <START:food> corn <END>  in addition to more traditional  <START:food>  salad <END>  accoutrements \n",
      "\n",
      "the  <START:food>  creole <END>  mustard dressing was \n",
      "\n",
      "the waitress had the authentic irish accent which was pretty cool we ordered irish  <START:food>  pie <END>  with  <START:food> steak <END>  mushroom, irish  <START:food>  pie <END>  with  <START:food> chicken <END>  curry, irish  <START:food>  sausage <END>  roll, bangers of course  <START:food>  fish <END>   <START:food> chips <END>  \n",
      "\n",
      "the crust of the pie and  <START:food>  sausage roll <END>  was \n",
      "\n",
      "the  <START:food>  curry <END>  chicken was surprisingly good \n",
      "\n",
      "the skinny excellent pub specialities done right perfection of the irish  <START:food>  pie <END>  \n",
      "\n",
      "we ordered a plate of their  <START:food>  fish and chips <END>  an irish  <START:food>  steak <END>  and mushroom pie \n",
      "\n",
      "While we were waiting, a neighbouring table were served their orders of  <START:food> fish <END>  \n",
      "\n",
      "When our  <START:food>  fish and chips <END>  arrived, we were surprised at the substantial portion \n",
      "\n",
      "three large  <START:food>  fillets <END>  perched on top of a mountain of fries with some coleslaw and  <START:food>  tartar sauce <END>  \n",
      "\n",
      "the  <START:food>  fish <END>  was in a beer battered style had a perfect ratio of  <START:food> batter <END>  to fillet \n",
      "\n",
      "the  <START:food>  batter <END>  was light, crispy held up well despite all the dunking into various sauces \n",
      "\n",
      "the  <START:food>  chips <END>  were mid sized cut crispy \n",
      "\n",
      "the  <START:food>  coleslaw <END>  was pretty standard fare \n",
      "\n",
      "the  <START:food>  steak <END>  and mushroom pie was a wonder \n",
      "\n",
      "the flaky dome arrived at the table accompanied by a mound of  <START:food>  mashed potatoes <END>  buttered  <START:food>  peas <END>  \n",
      "\n",
      "the filling was a satisfying combination of  <START:food>  beef <END>  and mushrooms, stewed with some kind of flavourful beer \n",
      "\n",
      "the most amazing thing was the  <START:food>  pastry <END>  \n",
      "\n",
      "At first we thought the  <START:food>  pie <END>  was in a ramikin it was completely freestanding that really speaks to the robustness of the crust \n",
      "\n",
      "the  <START:food>  pastry <END>  was flaky and crisp all the way around \n",
      "\n",
      "mcmullens has truly perfected the art of the irish  <START:food>  pie <END>  \n",
      "\n",
      "the  <START:food>  mashed potatoes <END>  were solid had a nice flavour a great  <START:food>  gravy <END>  could have used a little more texture \n",
      "\n",
      "the buttered  <START:food>  peas <END>  were good \n",
      "\n",
      "Get the irish  <START:food>  nachos <END>  \n",
      "\n",
      "bomb  <START:food>  fish <END>  and chips, pretty solid combo slider plate and kick ass sticky toffee puddingcool atmosphere pretty reasonable priceswe'll definitely be backALOHA \n",
      "\n",
      "As someone who is constantly on the lookout for a great  <START:food>  pot pie <END>   <START:food>  fish <END>  and chips, mcmullan's is our current top pick for an irish pub in vegas \n",
      "\n",
      "their rendition of  <START:food>  fish and chips <END>  \n",
      "\n",
      "the  <START:food>  batter <END>  was light, crispy, avoided the excessive oiliness found with most beer based  <START:food>  batters <END>  \n",
      "\n",
      "their  <START:food>  chips <END>  were midsized  <START:food>  steak <END>  fries nicely crisped on the outside \n",
      "\n",
      "the  <START:food>  coleslaw <END>  was good not particularly noteworthy \n",
      "\n",
      "those with strong  <START:food>  appetites <END>  for fried  <START:food>  fish <END>  should consider the ayce  <START:food>  fish and chips <END>  on thursdays from 5pm to 11pm \n",
      "\n",
      "their irish  <START:food>  pies <END>  are filled with either  <START:food>  chicken <END>  curry  <START:food>  steak <END>  and mushroom take about 25 minutes to prepare \n",
      "\n",
      "the  <START:food>  pie <END>  pastry itself impressed us because it completely enveloped the filling all around without the support of a ramekin remained perfectly crisp and flaky despite the hearty stew of  <START:food>  steak <END>  and mushrooms satisfying  <START:food>  chicken <END>  curry awaiting inside \n",
      "\n",
      "tasty accompaniments included buttered  <START:food>  peas <END>  a somewhat plain  <START:food>  mashed potatoes <END>  with a small pot of delicious  <START:food>  brown gravy <END>  \n",
      "\n",
      "this time, erin ashley i ordered a half size irish  <START:food>  nachos <END>  w  <START:food>  beef <END>  appetizer a texas  <START:food>  bbq <END>  burger with fries to share \n",
      "\n",
      "the  <START:food>  nachos <END>  are piled high with homemade  <START:food>  potato <END>  chips, melted cheese, tomatoes, green onions,  <START:food>  sour cream <END>  seasoned ground  <START:food>  beef <END>  \n",
      "\n",
      "the  <START:food>  burger <END>  was a stack of breaded onion rings, lettuce, tomatoes, pickles, sauteed mushrooms, swiss cheese, crunchy bacon, a  <START:food>  patty <END>  cooked to order and smothered in  <START:food>  bbq <END>  sauce between a toasted  <START:food>  sesame seed <END>  bun \n",
      "\n",
      "i'm surprised at just how well the  <START:food>  pickles <END>  went with everything \n",
      "\n",
      "we ended up taking over 23 of the  <START:food>  nachos <END>  home with us plan to  <START:food> snack <END>  on them for the rest of the day \n",
      "\n",
      "the irish  <START:food>  nachos <END>  are a \n",
      "\n",
      "i had a great  <START:food>  shepherd's pie <END>  a  <START:food>  whisky <END>  tasting \n",
      "\n",
      "the trio gave us a taste of three dishes, stew, sheppard's  <START:food>  pie <END>  what else,  <START:food>  corned beef <END>   <START:food> cabbage <END>  \n",
      "\n",
      "no preservatives, fresh home cooking no  <START:food>  aftertaste <END>  of any kind \n",
      "\n",
      "the  <START:food>  sausage rolls <END>  were probably the best i've ever eaten, the shepard's  <START:food>  pie <END>  would make me mam jealous as hell the  <START:food>  bangers <END>  and mash delectable \n",
      "\n",
      "the  <START:food>  fish <END>  and chips, the  <START:food>  corned beef <END>  sandwich are awesome \n",
      "\n",
      "Went back for happy hour to try other itemsThis time we got the 12 wing platter, bits o fish, a mini version of their  <START:food>  fish <END>  and chips, their steamed  <START:food>  mussels <END>  which came in a flavorful  <START:food>  tomato <END>  broth, their irish nachosthey were all pretty the  <START:food>  mussels <END>  were a little overdone \n",
      "\n",
      "as always we finished off with their sticky  <START:food>  toffee <END>  pudding, always a great end to an irish mealaloha \n",
      "\n",
      " <START:food>  chicken <END>  wings just like everywhere else,  <START:food>  sausage <END>  great, mussels with the sauce GREAT, the homemade  <START:food>  chips <END>  were EXCELLENT \n",
      "\n",
      "we started with the irish  <START:food>  sausage rolls <END>  \n",
      "\n",
      "the  <START:food>  sausage <END>  was savory and juicy the blankets were soft and flaky \n",
      "\n",
      "i had the diddy's  <START:food>  irish stew <END>  my companions ordered the  <START:food>  chicken <END>  causeway \n",
      "\n",
      "my stew was hearty and  <START:food>  savory <END>  with big chunks of  <START:food> lamb <END>  \n",
      "\n",
      "the  <START:food>  brown bread <END>  was perfect for dipping in the stew \n",
      "\n",
      "my companions'  <START:food>  curry <END>  was also very good without being overly  <START:food>  curry <END>  ie \n",
      "\n",
      "theirs was served with jasmine  <START:food>  rice <END>  as you might expect a  <START:food>  curry <END>  might be \n",
      "\n",
      "300001\n"
     ]
    }
   ],
   "source": [
    "train_list = []\n",
    "# Reading in first 0000 lines of the text file\n",
    "count = 0\n",
    "start_line = 0\n",
    "end_line = 300000\n",
    "\n",
    "# num_lines = 3\n",
    "\n",
    "# If it's below the numbers threshold, randomly sample 5% of the data\n",
    "# otherwise add the numbers between the alloted threshold\n",
    "\n",
    "with open('review_train', 'r') as f:\n",
    "    for line in f:\n",
    "        if count >= start_line and count <= end_line:\n",
    "\n",
    "\n",
    "        # if count == num_lines:\n",
    "        #     break\n",
    "            print(line, sep = '\\n')\n",
    "            train_list.append(line)\n",
    "        elif count > end_line:\n",
    "            break\n",
    "        count +=1\n",
    "print(count)"
   ]
  },
  {
   "cell_type": "code",
   "execution_count": 49,
   "metadata": {},
   "outputs": [],
   "source": [
    "import spacy\n",
    "\n",
    "nlp = spacy.load(\"en_core_web_md\")\n",
    "# Word, POS, Tag\n",
    "TRAIN_DATA = []\n",
    "temp_data = []\n",
    "# Iterate through each review\n",
    "for sentence in train_list:\n",
    "\n",
    "    # Get rid of leading/trailing spaces plus '\\n'\n",
    "    sentence = sentence.strip()\n",
    "    \n",
    "    # Code to get the all values inside '<START:food>' and '<END>'\n",
    "    split = sentence.split(start)\n",
    "    food_items = []\n",
    "    for i in range(0,len(split)-1):\n",
    "        food_items.append(split[i+1].split(end)[0].strip())\n",
    "    #print('food items:', food_items)\n",
    "\n",
    "    # final_food_items = []\n",
    "    final_food_items = [val.split() for val in food_items]\n",
    "    #print('food items:', final_food_items)\n",
    "\n",
    "    # Removing all marker Keywords, removing extra spaces, and sentence lowercase\n",
    "    sentence = replace_all(sentence, replace_vals)\n",
    "    #print(sentence)\n",
    "    #sentence = ' '.join(sentence.split())\n",
    "    # sentence = sentence.lower()\n",
    "    doc = nlp(sentence)\n",
    "    the_real_final_food_items = []  \n",
    "    for val in final_food_items:\n",
    "        for val1 in val:\n",
    "            the_real_final_food_items.append(val1)\n",
    "    \n",
    "    #print(the_real_final_food_items)\n",
    "    for token in doc:\n",
    "        check_token = str(token)\n",
    "        #print(token)\n",
    "        if check_token in the_real_final_food_items:\n",
    "            #print(check_token, '(found)')\n",
    "            temp_data.append((str(token), token.tag_, 'B-foo'))\n",
    "        elif check_token == 'of':\n",
    "            temp_data.append((str(token), token.tag_, 'O'))\n",
    "        else:\n",
    "            #print(check_token,'(not found)')\n",
    "            temp_data.append((str(token), token.tag_, 'O'))\n",
    "    TRAIN_DATA.append(temp_data)\n",
    "    temp_data = []\n",
    "    \n",
    "    \n",
    "    "
   ]
  },
  {
   "cell_type": "code",
   "execution_count": 50,
   "metadata": {},
   "outputs": [],
   "source": [
    "sentences = TRAIN_DATA"
   ]
  },
  {
   "cell_type": "code",
   "execution_count": 51,
   "metadata": {},
   "outputs": [
    {
     "output_type": "stream",
     "name": "stdout",
     "text": [
      "300001\n"
     ]
    }
   ],
   "source": [
    "print(len(sentences))"
   ]
  },
  {
   "cell_type": "code",
   "execution_count": 52,
   "metadata": {},
   "outputs": [],
   "source": [
    "# import spacy\n",
    "\n",
    "# nlp = spacy.load(\"en_core_web_md\")\n",
    "\n",
    "# # for val in train_list:\n",
    "# #     doc = nlp(val)\n",
    "\n",
    "# #     for token in doc:\n",
    "# #         print(token.text, token.tag_)\n",
    "\n",
    "# doc = nlp(\"Apple is looking at buying U.K. startup for $1 billion\")\n",
    "\n",
    "# for token in doc:\n",
    "#     print(token.text, token.lemma_, token.pos_, token.tag_, token.dep_,\n",
    "#             token.shape_, token.is_alpha, token.is_stop)"
   ]
  },
  {
   "cell_type": "code",
   "execution_count": 53,
   "metadata": {},
   "outputs": [],
   "source": [
    "def word2features(sent, i):\n",
    "    word = sent[i][0]\n",
    "    postag = sent[i][1]\n",
    "\n",
    "    features = {\n",
    "        'bias': 1.0,\n",
    "        'word.lower()': word.lower(),\n",
    "        'word[-3:]': word[-3:],\n",
    "        'word[-2:]': word[-2:],\n",
    "        'word.isupper()': word.isupper(),\n",
    "        'word.istitle()': word.istitle(),\n",
    "        'word.isdigit()': word.isdigit(),\n",
    "        'postag': postag,\n",
    "        'postag[:2]': postag[:2],\n",
    "    }\n",
    "    if i > 0:\n",
    "        word1 = sent[i-1][0]\n",
    "        postag1 = sent[i-1][1]\n",
    "        features.update({\n",
    "            '-1:word.lower()': word1.lower(),\n",
    "            '-1:word.istitle()': word1.istitle(),\n",
    "            '-1:word.isupper()': word1.isupper(),\n",
    "            '-1:postag': postag1,\n",
    "            '-1:postag[:2]': postag1[:2],\n",
    "        })\n",
    "    else:\n",
    "        features['BOS'] = True\n",
    "\n",
    "    if i < len(sent)-1:\n",
    "        word1 = sent[i+1][0]\n",
    "        postag1 = sent[i+1][1]\n",
    "        features.update({\n",
    "            '+1:word.lower()': word1.lower(),\n",
    "            '+1:word.istitle()': word1.istitle(),\n",
    "            '+1:word.isupper()': word1.isupper(),\n",
    "            '+1:postag': postag1,\n",
    "            '+1:postag[:2]': postag1[:2],\n",
    "        })\n",
    "    else:\n",
    "        features['EOS'] = True\n",
    "\n",
    "    return features\n",
    "\n",
    "\n",
    "def sent2features(sent):\n",
    "    return [word2features(sent, i) for i in range(len(sent))]\n",
    "\n",
    "def sent2labels(sent):\n",
    "    return [label for token, postag, label in sent]\n",
    "\n",
    "def sent2tokens(sent):\n",
    "    return [token for token, postag, label in sent]\n"
   ]
  },
  {
   "cell_type": "code",
   "execution_count": 54,
   "metadata": {},
   "outputs": [],
   "source": [
    "X = [sent2features(s) for s in sentences]\n",
    "y = [sent2labels(s) for s in sentences]\n"
   ]
  },
  {
   "cell_type": "code",
   "execution_count": 55,
   "metadata": {},
   "outputs": [],
   "source": [
    "from sklearn_crfsuite import CRF\n",
    "\n",
    "crf = CRF(algorithm='lbfgs',\n",
    "          c1=0.1,\n",
    "          c2=0.1,\n",
    "          max_iterations=100,\n",
    "          all_possible_transitions=False)"
   ]
  },
  {
   "cell_type": "code",
   "execution_count": 56,
   "metadata": {},
   "outputs": [],
   "source": [
    "from sklearn.model_selection import cross_val_predict\n",
    "from sklearn_crfsuite.metrics import flat_classification_report\n"
   ]
  },
  {
   "cell_type": "code",
   "execution_count": 57,
   "metadata": {},
   "outputs": [],
   "source": [
    "# pred = cross_val_predict(estimator=crf, X=X, y=y, cv=4)"
   ]
  },
  {
   "cell_type": "code",
   "execution_count": 58,
   "metadata": {},
   "outputs": [],
   "source": [
    "from sklearn.model_selection import train_test_split\n",
    "\n",
    "X_train, X_test, y_train, y_test = train_test_split(X, y, test_size=0.2, random_state=42)"
   ]
  },
  {
   "cell_type": "code",
   "execution_count": 59,
   "metadata": {},
   "outputs": [
    {
     "output_type": "execute_result",
     "data": {
      "text/plain": [
       "CRF(algorithm='lbfgs', all_possible_states=None, all_possible_transitions=False,\n",
       "    averaging=None, c=None, c1=0.1, c2=0.1, calibration_candidates=None,\n",
       "    calibration_eta=None, calibration_max_trials=None, calibration_rate=None,\n",
       "    calibration_samples=None, delta=None, epsilon=None, error_sensitive=None,\n",
       "    gamma=None, keep_tempfiles=None, linesearch=None, max_iterations=100,\n",
       "    max_linesearch=None, min_freq=None, model_filename=None, num_memories=None,\n",
       "    pa_type=None, period=None, trainer_cls=None, variance=None, verbose=False)"
      ]
     },
     "metadata": {},
     "execution_count": 59
    }
   ],
   "source": [
    "crf.fit(X_train ,y_train)"
   ]
  },
  {
   "cell_type": "code",
   "execution_count": 22,
   "metadata": {},
   "outputs": [
    {
     "output_type": "stream",
     "name": "stdout",
     "text": [
      "['O', 'B-foo']\n"
     ]
    }
   ],
   "source": [
    "print(crf.classes_)"
   ]
  },
  {
   "cell_type": "code",
   "execution_count": 23,
   "metadata": {},
   "outputs": [
    {
     "output_type": "execute_result",
     "data": {
      "text/plain": [
       "['B-foo']"
      ]
     },
     "metadata": {},
     "execution_count": 23
    }
   ],
   "source": [
    "labels = list(crf.classes_)\n",
    "labels.remove('O')\n",
    "labels"
   ]
  },
  {
   "cell_type": "code",
   "execution_count": 60,
   "metadata": {},
   "outputs": [
    {
     "output_type": "execute_result",
     "data": {
      "text/plain": [
       "0.9230402890583345"
      ]
     },
     "metadata": {},
     "execution_count": 60
    }
   ],
   "source": [
    "from sklearn_crfsuite import metrics\n",
    "y_pred = crf.predict(X_test)\n",
    "metrics.flat_f1_score(y_test, y_pred,\n",
    "                      average='weighted', labels=labels)"
   ]
  },
  {
   "cell_type": "code",
   "execution_count": 97,
   "metadata": {},
   "outputs": [
    {
     "output_type": "stream",
     "name": "stdout",
     "text": [
      "              precision    recall  f1-score   support\n\n       B-foo      0.921     0.925     0.923     96363\n\n   micro avg      0.921     0.925     0.923     96363\n   macro avg      0.921     0.925     0.923     96363\nweighted avg      0.921     0.925     0.923     96363\n\n"
     ]
    }
   ],
   "source": [
    "# group B and I results\n",
    "sorted_labels = sorted(\n",
    "    labels,\n",
    "    key=lambda name: (name[1:], name[0])\n",
    ")\n",
    "print(metrics.flat_classification_report(\n",
    "    y_test, y_pred, labels=sorted_labels, digits=3\n",
    "))"
   ]
  },
  {
   "source": [
    "### Test on Yelp Reviews Data"
   ],
   "cell_type": "markdown",
   "metadata": {}
  },
  {
   "cell_type": "code",
   "execution_count": 61,
   "metadata": {},
   "outputs": [],
   "source": [
    "test_list = [\n",
    "    'Taco Dale is my go to place for having Mexican food, we love their burrito, Tacos, basically everything They have a great staff who hears you out when placing the order and cooks it perfect as per your needs',\n",
    "    \"My new favorite place I get tacos from around the area and today was my 3rd day in a row, here. All I've had are the tacos. If they're this great, I can't even imagine the rest of the menu! Great restaurant!\",\n",
    "    'My favorite \"fast food \" Mexican restaurant! Always hot, fresh and tasty!!! The eclairs and shrimp tacos are the best here never dry or overcooked like some other restaurants do.',\n",
    "    'They have always had the very top tier, best fortune cookies I’ve ever found. They also have the chicken fried rice, which is also really good. ',\n",
    "    'Good flavor but way overpriced and portions are very small. The crab rangoon is almost all bread, with a miniscule amount of filling. The white rice portion is not even enough to feed one person',\n",
    "    \"Disgusting food!I'm not sure how they have 4.3 rating.The presentation is bad, the taste is bad, General Tso's chicken doesn't even taste like chicken. I'm never going there again\",\n",
    "    'I had ordered 3 lunch specials  that included pastries. Nice portion size btw. Ordered the Orange Chicken, Mongolian Beef, Beef and Broccoli. The Orange Chicken was delicious. Will definitely order again. The Mongolian Beef was kinda weird tasting and had way more onions then beef. not worth getting, unless you want just the onions. :( The Beef and Broccoli was also delicious. A little salty, if your watching your sodium I suggest you skip this dish. However it was good. Oh for got to mention the meat on both beefs where very chewy for some reason. My kids liked the rice, however I didnt enjoy it. To many chunks of onions. I like the fried rice with bean sprouts. Also no egg roll or pop with lunch specials in case you wanted to know. '\n",
    "]"
   ]
  },
  {
   "cell_type": "code",
   "execution_count": 62,
   "metadata": {},
   "outputs": [],
   "source": [
    "import spacy\n",
    "\n",
    "nlp = spacy.load(\"en_core_web_md\")\n",
    "# Word, POS, Tag\n",
    "TEST_DATA = []\n",
    "temp_data = []\n",
    "# Iterate through each review\n",
    "for sentence in test_list:\n",
    "\n",
    "    # Get rid of leading/trailing spaces plus '\\n'\n",
    "    sentence = sentence.strip()\n",
    "    \n",
    "    # Code to get the all values inside '<START:food>' and '<END>'\n",
    "    split = sentence.split(start)\n",
    "    food_items = []\n",
    "    for i in range(0,len(split)-1):\n",
    "        food_items.append(split[i+1].split(end)[0].strip())\n",
    "    #print('food items:', food_items)\n",
    "\n",
    "    # final_food_items = []\n",
    "    final_food_items = [val.split() for val in food_items]\n",
    "    #print('food items:', final_food_items)\n",
    "\n",
    "    # Removing all marker Keywords, removing extra spaces, and sentence lowercase\n",
    "    sentence = replace_all(sentence, replace_vals)\n",
    "    #print(sentence)\n",
    "    #sentence = ' '.join(sentence.split())\n",
    "    # sentence = sentence.lower()\n",
    "    doc = nlp(sentence)\n",
    "    the_real_final_food_items = []  \n",
    "    for val in final_food_items:\n",
    "        for val1 in val:\n",
    "            the_real_final_food_items.append(val1)\n",
    "    \n",
    "    #print(the_real_final_food_items)\n",
    "    for token in doc:\n",
    "        check_token = str(token)\n",
    "        #print(token)\n",
    "        if check_token in the_real_final_food_items:\n",
    "            #print(check_token, '(found)')\n",
    "            temp_data.append((str(token), token.tag_, 'B-foo'))\n",
    "        elif check_token == 'of':\n",
    "            temp_data.append((str(token), token.tag_, 'O'))\n",
    "        else:\n",
    "            #print(check_token,'(not found)')\n",
    "            temp_data.append((str(token), token.tag_, 'O'))\n",
    "    TEST_DATA.append(temp_data)\n",
    "    temp_data = []\n",
    "    \n",
    "    \n",
    "    "
   ]
  },
  {
   "cell_type": "code",
   "execution_count": 65,
   "metadata": {},
   "outputs": [],
   "source": [
    "X_test = [sent2features(s) for s in TEST_DATA]"
   ]
  },
  {
   "cell_type": "code",
   "execution_count": 66,
   "metadata": {},
   "outputs": [],
   "source": [
    "y_pred = crf.predict(X_test)"
   ]
  },
  {
   "cell_type": "code",
   "execution_count": 70,
   "metadata": {},
   "outputs": [],
   "source": [
    "# y_pred"
   ]
  },
  {
   "cell_type": "code",
   "execution_count": 67,
   "metadata": {},
   "outputs": [],
   "source": [
    "# for ind, val in enumerate(TEST_DATA):\n",
    "#     print(TEST_DATA[ind][0])"
   ]
  },
  {
   "cell_type": "code",
   "execution_count": 71,
   "metadata": {},
   "outputs": [
    {
     "output_type": "stream",
     "name": "stdout",
     "text": [
      "('Taco', 'O')\n('Dale', 'O')\n('is', 'O')\n('my', 'O')\n('go', 'O')\n('to', 'O')\n('place', 'O')\n('for', 'O')\n('having', 'O')\n('Mexican', 'O')\n('food', 'O')\n(',', 'O')\n('we', 'O')\n('love', 'O')\n('their', 'O')\n('burrito', 'O')\n(',', 'O')\n('Tacos', 'O')\n(',', 'O')\n('basically', 'O')\n('everything', 'O')\n('They', 'O')\n('have', 'O')\n('a', 'O')\n('great', 'O')\n('staff', 'O')\n('who', 'O')\n('hears', 'O')\n('you', 'O')\n('out', 'O')\n('when', 'O')\n('placing', 'O')\n('the', 'O')\n('order', 'O')\n('and', 'O')\n('cooks', 'O')\n('it', 'O')\n('perfect', 'O')\n('as', 'O')\n('per', 'O')\n('your', 'O')\n('needs', 'O')\n('My', 'O')\n('new', 'O')\n('favorite', 'O')\n('place', 'O')\n('I', 'O')\n('get', 'O')\n('tacos', 'B-foo')\n('from', 'O')\n('around', 'O')\n('the', 'O')\n('area', 'O')\n('and', 'O')\n('today', 'O')\n('was', 'O')\n('my', 'O')\n('3rd', 'O')\n('day', 'O')\n('in', 'O')\n('a', 'O')\n('row', 'O')\n(',', 'O')\n('here', 'O')\n('.', 'O')\n('All', 'O')\n('I', 'O')\n('ve', 'O')\n('had', 'O')\n('are', 'O')\n('the', 'O')\n('tacos', 'O')\n('.', 'O')\n('If', 'O')\n('they', 'O')\n('re', 'O')\n('this', 'O')\n('great', 'O')\n(',', 'O')\n('I', 'O')\n('ca', 'O')\n('nt', 'O')\n('even', 'O')\n('imagine', 'O')\n('the', 'O')\n('rest', 'O')\n('of', 'O')\n('the', 'O')\n('menu', 'O')\n('!', 'O')\n('Great', 'O')\n('restaurant', 'O')\n('!', 'O')\n('My', 'O')\n('favorite', 'O')\n('\"', 'O')\n('fast', 'O')\n('food', 'O')\n('\"', 'O')\n('Mexican', 'O')\n('restaurant', 'O')\n('!', 'O')\n('Always', 'O')\n('hot', 'O')\n(',', 'O')\n('fresh', 'O')\n('and', 'O')\n('tasty', 'O')\n('!', 'O')\n('!', 'O')\n('!', 'O')\n('The', 'O')\n('eclairs', 'B-foo')\n('and', 'O')\n('shrimp', 'O')\n('tacos', 'O')\n('are', 'O')\n('the', 'O')\n('best', 'O')\n('here', 'O')\n('never', 'O')\n('dry', 'O')\n('or', 'O')\n('overcooked', 'O')\n('like', 'O')\n('some', 'O')\n('other', 'O')\n('restaurants', 'O')\n('do', 'O')\n('.', 'O')\n('They', 'O')\n('have', 'O')\n('always', 'O')\n('had', 'O')\n('the', 'O')\n('very', 'O')\n('top', 'O')\n('tier', 'O')\n(',', 'O')\n('best', 'O')\n('fortune', 'O')\n('cookies', 'B-foo')\n('I', 'O')\n('’ve', 'O')\n('ever', 'O')\n('found', 'O')\n('.', 'O')\n('They', 'O')\n('also', 'O')\n('have', 'O')\n('the', 'O')\n('chicken', 'B-foo')\n('fried', 'O')\n('rice', 'O')\n(',', 'O')\n('which', 'O')\n('is', 'O')\n('also', 'O')\n('really', 'O')\n('good', 'O')\n('.', 'O')\n('Good', 'O')\n('flavor', 'O')\n('but', 'O')\n('way', 'O')\n('overpriced', 'O')\n('and', 'O')\n('portions', 'O')\n('are', 'O')\n('very', 'O')\n('small', 'O')\n('.', 'O')\n('The', 'O')\n('crab', 'B-foo')\n('rangoon', 'B-foo')\n('is', 'O')\n('almost', 'O')\n('all', 'O')\n('bread', 'O')\n(',', 'O')\n('with', 'O')\n('a', 'O')\n('miniscule', 'O')\n('amount', 'O')\n('of', 'O')\n('filling', 'O')\n('.', 'O')\n('The', 'O')\n('white', 'B-foo')\n('rice', 'B-foo')\n('portion', 'O')\n('is', 'O')\n('not', 'O')\n('even', 'O')\n('enough', 'O')\n('to', 'O')\n('feed', 'O')\n('one', 'O')\n('person', 'O')\n('Disgusting', 'O')\n('food!Im', 'O')\n('not', 'O')\n('sure', 'O')\n('how', 'O')\n('they', 'O')\n('have', 'O')\n('4.3', 'O')\n('rating', 'O')\n('.', 'O')\n('The', 'O')\n('presentation', 'O')\n('is', 'O')\n('bad', 'O')\n(',', 'O')\n('the', 'O')\n('taste', 'O')\n('is', 'O')\n('bad', 'O')\n(',', 'O')\n('General', 'O')\n('Tsos', 'O')\n('chicken', 'B-foo')\n('does', 'O')\n('nt', 'O')\n('even', 'O')\n('taste', 'O')\n('like', 'O')\n('chicken', 'B-foo')\n('.', 'O')\n('I', 'O')\n('m', 'O')\n('never', 'O')\n('going', 'O')\n('there', 'O')\n('again', 'O')\n('I', 'O')\n('had', 'O')\n('ordered', 'O')\n('3', 'O')\n('lunch', 'O')\n('specials', 'O')\n('that', 'O')\n('included', 'O')\n('pastries', 'O')\n('.', 'O')\n('Nice', 'O')\n('portion', 'O')\n('size', 'O')\n('btw', 'O')\n('.', 'O')\n('Ordered', 'O')\n('the', 'O')\n('Orange', 'O')\n('Chicken', 'O')\n(',', 'O')\n('Mongolian', 'O')\n('Beef', 'O')\n(',', 'O')\n('Beef', 'O')\n('and', 'O')\n('Broccoli', 'O')\n('.', 'O')\n('The', 'O')\n('Orange', 'O')\n('Chicken', 'O')\n('was', 'O')\n('delicious', 'O')\n('.', 'O')\n('Will', 'O')\n('definitely', 'O')\n('order', 'O')\n('again', 'O')\n('.', 'O')\n('The', 'O')\n('Mongolian', 'O')\n('Beef', 'O')\n('was', 'O')\n('kinda', 'O')\n('weird', 'O')\n('tasting', 'O')\n('and', 'O')\n('had', 'O')\n('way', 'O')\n('more', 'O')\n('onions', 'O')\n('then', 'O')\n('beef', 'O')\n('.', 'O')\n('not', 'O')\n('worth', 'O')\n('getting', 'O')\n(',', 'O')\n('unless', 'O')\n('you', 'O')\n('want', 'O')\n('just', 'O')\n('the', 'O')\n('onions', 'O')\n('.', 'O')\n(':(', 'O')\n('The', 'O')\n('Beef', 'O')\n('and', 'O')\n('Broccoli', 'O')\n('was', 'O')\n('also', 'O')\n('delicious', 'O')\n('.', 'O')\n('A', 'O')\n('little', 'O')\n('salty', 'O')\n(',', 'O')\n('if', 'O')\n('your', 'O')\n('watching', 'O')\n('your', 'O')\n('sodium', 'O')\n('I', 'O')\n('suggest', 'O')\n('you', 'O')\n('skip', 'O')\n('this', 'O')\n('dish', 'O')\n('.', 'O')\n('However', 'O')\n('it', 'O')\n('was', 'O')\n('good', 'O')\n('.', 'O')\n('Oh', 'O')\n('for', 'O')\n('got', 'O')\n('to', 'O')\n('mention', 'O')\n('the', 'O')\n('meat', 'B-foo')\n('on', 'O')\n('both', 'O')\n('beefs', 'O')\n('where', 'O')\n('very', 'O')\n('chewy', 'O')\n('for', 'O')\n('some', 'O')\n('reason', 'O')\n('.', 'O')\n('My', 'O')\n('kids', 'O')\n('liked', 'O')\n('the', 'O')\n('rice', 'O')\n(',', 'O')\n('however', 'O')\n('I', 'O')\n('did', 'O')\n('nt', 'O')\n('enjoy', 'O')\n('it', 'O')\n('.', 'O')\n('To', 'O')\n('many', 'O')\n('chunks', 'O')\n('of', 'O')\n('onions', 'O')\n('.', 'O')\n('I', 'O')\n('like', 'O')\n('the', 'O')\n('fried', 'B-foo')\n('rice', 'B-foo')\n('with', 'O')\n('bean', 'B-foo')\n('sprouts', 'O')\n('.', 'O')\n('Also', 'O')\n('no', 'O')\n('egg', 'B-foo')\n('roll', 'B-foo')\n('or', 'O')\n('pop', 'O')\n('with', 'O')\n('lunch', 'O')\n('specials', 'O')\n('in', 'O')\n('case', 'O')\n('you', 'O')\n('wanted', 'O')\n('to', 'O')\n('know', 'O')\n('.', 'O')\n"
     ]
    }
   ],
   "source": [
    "final_1 = []\n",
    "for lst in TEST_DATA:\n",
    "    for ele in lst:\n",
    "        final_1.append(ele[0])\n",
    "final_2 = []\n",
    "for lst in y_pred:\n",
    "    for ele in lst:\n",
    "        final_2.append(ele[0:])\n",
    "for val in zip(final_1, final_2):\n",
    "    print(val)"
   ]
  },
  {
   "cell_type": "code",
   "execution_count": 72,
   "metadata": {},
   "outputs": [
    {
     "output_type": "execute_result",
     "data": {
      "text/plain": [
       "CRF(algorithm='lbfgs', all_possible_states=None, all_possible_transitions=False,\n",
       "    averaging=None, c=None, c1=0.1, c2=0.1, calibration_candidates=None,\n",
       "    calibration_eta=None, calibration_max_trials=None, calibration_rate=None,\n",
       "    calibration_samples=None, delta=None, epsilon=None, error_sensitive=None,\n",
       "    gamma=None, keep_tempfiles=None, linesearch=None, max_iterations=100,\n",
       "    max_linesearch=None, min_freq=None, model_filename=None, num_memories=None,\n",
       "    pa_type=None, period=None, trainer_cls=None, variance=None, verbose=False)"
      ]
     },
     "metadata": {},
     "execution_count": 72
    }
   ],
   "source": [
    "crf.fit(X_train, y_train)"
   ]
  },
  {
   "cell_type": "code",
   "execution_count": 73,
   "metadata": {},
   "outputs": [],
   "source": [
    "import eli5"
   ]
  },
  {
   "cell_type": "code",
   "execution_count": 74,
   "metadata": {},
   "outputs": [
    {
     "output_type": "execute_result",
     "data": {
      "text/plain": [
       "<IPython.core.display.HTML object>"
      ],
      "text/html": "\n    <style>\n    table.eli5-weights tr:hover {\n        filter: brightness(85%);\n    }\n</style>\n\n\n\n    \n\n    \n\n    \n        \n\n\n<table class=\"eli5-transition-features\" style=\"margin-bottom: 0.5em;\">\n    <thead>\n        <tr>\n            <td>From \\ To</td>\n            \n                <th>O</th>\n            \n                <th>B-foo</th>\n            \n        </tr>\n    </thead>\n    <tbody>\n        \n            \n                <tr>\n                    <th>O</th>\n                    \n                        <td style=\"background-color: hsl(120, 100.00%, 80.00%)\" title=\"O &rArr; O\">\n                            1.253\n                        </td>\n                    \n                        <td style=\"background-color: hsl(0, 100.00%, 90.19%)\" title=\"O &rArr; B-foo\">\n                            -0.453\n                        </td>\n                    \n                </tr>\n            \n                <tr>\n                    <th>B-foo</th>\n                    \n                        <td style=\"background-color: hsl(0, 100.00%, 91.36%)\" title=\"B-foo &rArr; O\">\n                            -0.378\n                        </td>\n                    \n                        <td style=\"background-color: hsl(0, 100.00%, 91.60%)\" title=\"B-foo &rArr; B-foo\">\n                            -0.363\n                        </td>\n                    \n                </tr>\n            \n        \n    </tbody>\n</table>\n    \n\n    \n\n    \n\n    \n\n\n    \n\n    \n\n    \n\n    \n        \n\n    \n        <table class=\"eli5-weights-wrapper\" style=\"border-collapse: collapse; border: none; margin-bottom: 1.5em;\">\n            <tr>\n                \n                    <td style=\"padding: 0.5em; border: 1px solid black; text-align: center;\">\n                        <b>\n    \n        y=O\n    \n</b>\n\ntop features\n                    </td>\n                \n                    <td style=\"padding: 0.5em; border: 1px solid black; text-align: center;\">\n                        <b>\n    \n        y=B-foo\n    \n</b>\n\ntop features\n                    </td>\n                \n            </tr>\n            <tr>\n                \n                    \n                        <td style=\"padding: 0px; border: 1px solid black; vertical-align: top;\">\n                            \n                                \n                                    \n                                    \n    \n    <table class=\"eli5-weights\"\n           style=\"border-collapse: collapse; border: none; margin-top: 0em; table-layout: auto; width: 100%;\">\n        <thead>\n        <tr style=\"border: none;\">\n            \n                <th style=\"padding: 0 1em 0 0.5em; text-align: right; border: none;\" title=\"Feature weights. Note that weights do not account for feature value scales, so if feature values have different scales, features with highest weights might not be the most important.\">\n                    Weight<sup>?</sup>\n                </th>\n            \n            <th style=\"padding: 0 0.5em 0 0.5em; text-align: left; border: none;\">Feature</th>\n            \n        </tr>\n        </thead>\n        <tbody>\n        \n            <tr style=\"background-color: hsl(120, 100.00%, 83.46%); border: none;\">\n    <td style=\"padding: 0 1em 0 0.5em; text-align: right; border: none;\">\n        +7.708\n    </td>\n    <td style=\"padding: 0 0.5em 0 0.5em; text-align: left; border: none;\">\n        -1:word.lower():cracker\n    </td>\n    \n</tr>\n        \n            <tr style=\"background-color: hsl(120, 100.00%, 85.72%); border: none;\">\n    <td style=\"padding: 0 1em 0 0.5em; text-align: right; border: none;\">\n        +6.250\n    </td>\n    <td style=\"padding: 0 0.5em 0 0.5em; text-align: left; border: none;\">\n        word.lower():fast\n    </td>\n    \n</tr>\n        \n            <tr style=\"background-color: hsl(120, 100.00%, 85.72%); border: none;\">\n    <td style=\"padding: 0 1em 0 0.5em; text-align: right; border: none;\">\n        +6.248\n    </td>\n    <td style=\"padding: 0 0.5em 0 0.5em; text-align: left; border: none;\">\n        word.lower():good\n    </td>\n    \n</tr>\n        \n            <tr style=\"background-color: hsl(120, 100.00%, 86.59%); border: none;\">\n    <td style=\"padding: 0 1em 0 0.5em; text-align: right; border: none;\">\n        +5.710\n    </td>\n    <td style=\"padding: 0 0.5em 0 0.5em; text-align: left; border: none;\">\n        -1:word.lower():porterhouse\n    </td>\n    \n</tr>\n        \n            <tr style=\"background-color: hsl(120, 100.00%, 86.87%); border: none;\">\n    <td style=\"padding: 0 1em 0 0.5em; text-align: right; border: none;\">\n        +5.543\n    </td>\n    <td style=\"padding: 0 0.5em 0 0.5em; text-align: left; border: none;\">\n        word.lower():makes\n    </td>\n    \n</tr>\n        \n            <tr style=\"background-color: hsl(120, 100.00%, 86.92%); border: none;\">\n    <td style=\"padding: 0 1em 0 0.5em; text-align: right; border: none;\">\n        +5.514\n    </td>\n    <td style=\"padding: 0 0.5em 0 0.5em; text-align: left; border: none;\">\n        word.lower():chicago\n    </td>\n    \n</tr>\n        \n            <tr style=\"background-color: hsl(120, 100.00%, 86.98%); border: none;\">\n    <td style=\"padding: 0 1em 0 0.5em; text-align: right; border: none;\">\n        +5.475\n    </td>\n    <td style=\"padding: 0 0.5em 0 0.5em; text-align: left; border: none;\">\n        word.lower():great\n    </td>\n    \n</tr>\n        \n            <tr style=\"background-color: hsl(120, 100.00%, 87.01%); border: none;\">\n    <td style=\"padding: 0 1em 0 0.5em; text-align: right; border: none;\">\n        +5.457\n    </td>\n    <td style=\"padding: 0 0.5em 0 0.5em; text-align: left; border: none;\">\n        word.lower():street\n    </td>\n    \n</tr>\n        \n            <tr style=\"background-color: hsl(120, 100.00%, 87.12%); border: none;\">\n    <td style=\"padding: 0 1em 0 0.5em; text-align: right; border: none;\">\n        +5.395\n    </td>\n    <td style=\"padding: 0 0.5em 0 0.5em; text-align: left; border: none;\">\n        word.lower():chiles\n    </td>\n    \n</tr>\n        \n            <tr style=\"background-color: hsl(120, 100.00%, 87.15%); border: none;\">\n    <td style=\"padding: 0 1em 0 0.5em; text-align: right; border: none;\">\n        +5.375\n    </td>\n    <td style=\"padding: 0 0.5em 0 0.5em; text-align: left; border: none;\">\n        word.lower():dishes\n    </td>\n    \n</tr>\n        \n            <tr style=\"background-color: hsl(120, 100.00%, 87.19%); border: none;\">\n    <td style=\"padding: 0 1em 0 0.5em; text-align: right; border: none;\">\n        +5.349\n    </td>\n    <td style=\"padding: 0 0.5em 0 0.5em; text-align: left; border: none;\">\n        word.lower():standard\n    </td>\n    \n</tr>\n        \n            <tr style=\"background-color: hsl(120, 100.00%, 87.27%); border: none;\">\n    <td style=\"padding: 0 1em 0 0.5em; text-align: right; border: none;\">\n        +5.304\n    </td>\n    <td style=\"padding: 0 0.5em 0 0.5em; text-align: left; border: none;\">\n        word.lower():favorite\n    </td>\n    \n</tr>\n        \n            <tr style=\"background-color: hsl(120, 100.00%, 87.35%); border: none;\">\n    <td style=\"padding: 0 1em 0 0.5em; text-align: right; border: none;\">\n        +5.253\n    </td>\n    <td style=\"padding: 0 0.5em 0 0.5em; text-align: left; border: none;\">\n        -1:word.lower():decaf\n    </td>\n    \n</tr>\n        \n            <tr style=\"background-color: hsl(120, 100.00%, 87.42%); border: none;\">\n    <td style=\"padding: 0 1em 0 0.5em; text-align: right; border: none;\">\n        +5.213\n    </td>\n    <td style=\"padding: 0 0.5em 0 0.5em; text-align: left; border: none;\">\n        word.lower():york\n    </td>\n    \n</tr>\n        \n            <tr style=\"background-color: hsl(120, 100.00%, 87.51%); border: none;\">\n    <td style=\"padding: 0 1em 0 0.5em; text-align: right; border: none;\">\n        +5.162\n    </td>\n    <td style=\"padding: 0 0.5em 0 0.5em; text-align: left; border: none;\">\n        word.lower():non\n    </td>\n    \n</tr>\n        \n            <tr style=\"background-color: hsl(120, 100.00%, 87.51%); border: none;\">\n    <td style=\"padding: 0 1em 0 0.5em; text-align: right; border: none;\">\n        +5.161\n    </td>\n    <td style=\"padding: 0 0.5em 0 0.5em; text-align: left; border: none;\">\n        word.lower():has\n    </td>\n    \n</tr>\n        \n            <tr style=\"background-color: hsl(120, 100.00%, 87.54%); border: none;\">\n    <td style=\"padding: 0 1em 0 0.5em; text-align: right; border: none;\">\n        +5.140\n    </td>\n    <td style=\"padding: 0 0.5em 0 0.5em; text-align: left; border: none;\">\n        word.lower():homemade\n    </td>\n    \n</tr>\n        \n            <tr style=\"background-color: hsl(120, 100.00%, 87.67%); border: none;\">\n    <td style=\"padding: 0 1em 0 0.5em; text-align: right; border: none;\">\n        +5.067\n    </td>\n    <td style=\"padding: 0 0.5em 0 0.5em; text-align: left; border: none;\">\n        word.lower():broken\n    </td>\n    \n</tr>\n        \n            <tr style=\"background-color: hsl(120, 100.00%, 87.73%); border: none;\">\n    <td style=\"padding: 0 1em 0 0.5em; text-align: right; border: none;\">\n        +5.031\n    </td>\n    <td style=\"padding: 0 0.5em 0 0.5em; text-align: left; border: none;\">\n        -1:word.lower():buckwheat\n    </td>\n    \n</tr>\n        \n            <tr style=\"background-color: hsl(120, 100.00%, 87.82%); border: none;\">\n    <td style=\"padding: 0 1em 0 0.5em; text-align: right; border: none;\">\n        +4.978\n    </td>\n    <td style=\"padding: 0 0.5em 0 0.5em; text-align: left; border: none;\">\n        -1:word.lower():carolina\n    </td>\n    \n</tr>\n        \n            <tr style=\"background-color: hsl(120, 100.00%, 87.87%); border: none;\">\n    <td style=\"padding: 0 1em 0 0.5em; text-align: right; border: none;\">\n        +4.949\n    </td>\n    <td style=\"padding: 0 0.5em 0 0.5em; text-align: left; border: none;\">\n        word[-3:]:ide\n    </td>\n    \n</tr>\n        \n            <tr style=\"background-color: hsl(120, 100.00%, 87.89%); border: none;\">\n    <td style=\"padding: 0 1em 0 0.5em; text-align: right; border: none;\">\n        +4.939\n    </td>\n    <td style=\"padding: 0 0.5em 0 0.5em; text-align: left; border: none;\">\n        word.lower():been\n    </td>\n    \n</tr>\n        \n            <tr style=\"background-color: hsl(120, 100.00%, 87.89%); border: none;\">\n    <td style=\"padding: 0 1em 0 0.5em; text-align: right; border: none;\">\n        +4.937\n    </td>\n    <td style=\"padding: 0 0.5em 0 0.5em; text-align: left; border: none;\">\n        -1:word.lower():amaretto\n    </td>\n    \n</tr>\n        \n        \n            <tr style=\"background-color: hsl(120, 100.00%, 87.89%); border: none;\">\n                <td colspan=\"2\" style=\"padding: 0 0.5em 0 0.5em; text-align: center; border: none; white-space: nowrap;\">\n                    <i>&hellip; 19965 more positive &hellip;</i>\n                </td>\n            </tr>\n        \n\n        \n            <tr style=\"background-color: hsl(0, 100.00%, 87.92%); border: none;\">\n                <td colspan=\"2\" style=\"padding: 0 0.5em 0 0.5em; text-align: center; border: none; white-space: nowrap;\">\n                    <i>&hellip; 12240 more negative &hellip;</i>\n                </td>\n            </tr>\n        \n        \n            <tr style=\"background-color: hsl(0, 100.00%, 87.92%); border: none;\">\n    <td style=\"padding: 0 1em 0 0.5em; text-align: right; border: none;\">\n        -4.919\n    </td>\n    <td style=\"padding: 0 0.5em 0 0.5em; text-align: left; border: none;\">\n        word.lower():mass\n    </td>\n    \n</tr>\n        \n            <tr style=\"background-color: hsl(0, 100.00%, 87.89%); border: none;\">\n    <td style=\"padding: 0 1em 0 0.5em; text-align: right; border: none;\">\n        -4.938\n    </td>\n    <td style=\"padding: 0 0.5em 0 0.5em; text-align: left; border: none;\">\n        word.lower():cutter\n    </td>\n    \n</tr>\n        \n            <tr style=\"background-color: hsl(0, 100.00%, 87.56%); border: none;\">\n    <td style=\"padding: 0 1em 0 0.5em; text-align: right; border: none;\">\n        -5.129\n    </td>\n    <td style=\"padding: 0 0.5em 0 0.5em; text-align: left; border: none;\">\n        word.lower():condiment\n    </td>\n    \n</tr>\n        \n            <tr style=\"background-color: hsl(0, 100.00%, 87.48%); border: none;\">\n    <td style=\"padding: 0 1em 0 0.5em; text-align: right; border: none;\">\n        -5.176\n    </td>\n    <td style=\"padding: 0 0.5em 0 0.5em; text-align: left; border: none;\">\n        word.lower():hospitality\n    </td>\n    \n</tr>\n        \n            <tr style=\"background-color: hsl(0, 100.00%, 87.42%); border: none;\">\n    <td style=\"padding: 0 1em 0 0.5em; text-align: right; border: none;\">\n        -5.215\n    </td>\n    <td style=\"padding: 0 0.5em 0 0.5em; text-align: left; border: none;\">\n        word.lower():ful\n    </td>\n    \n</tr>\n        \n            <tr style=\"background-color: hsl(0, 100.00%, 87.35%); border: none;\">\n    <td style=\"padding: 0 1em 0 0.5em; text-align: right; border: none;\">\n        -5.256\n    </td>\n    <td style=\"padding: 0 0.5em 0 0.5em; text-align: left; border: none;\">\n        word.lower():crown\n    </td>\n    \n</tr>\n        \n            <tr style=\"background-color: hsl(0, 100.00%, 86.70%); border: none;\">\n    <td style=\"padding: 0 1em 0 0.5em; text-align: right; border: none;\">\n        -5.647\n    </td>\n    <td style=\"padding: 0 0.5em 0 0.5em; text-align: left; border: none;\">\n        word.lower():caterpillar\n    </td>\n    \n</tr>\n        \n\n        </tbody>\n    </table>\n\n                                \n                            \n                        </td>\n                    \n                        <td style=\"padding: 0px; border: 1px solid black; vertical-align: top;\">\n                            \n                                \n                                    \n                                    \n    \n    <table class=\"eli5-weights\"\n           style=\"border-collapse: collapse; border: none; margin-top: 0em; table-layout: auto; width: 100%;\">\n        <thead>\n        <tr style=\"border: none;\">\n            \n                <th style=\"padding: 0 1em 0 0.5em; text-align: right; border: none;\" title=\"Feature weights. Note that weights do not account for feature value scales, so if feature values have different scales, features with highest weights might not be the most important.\">\n                    Weight<sup>?</sup>\n                </th>\n            \n            <th style=\"padding: 0 0.5em 0 0.5em; text-align: left; border: none;\">Feature</th>\n            \n        </tr>\n        </thead>\n        <tbody>\n        \n            <tr style=\"background-color: hsl(120, 100.00%, 80.00%); border: none;\">\n    <td style=\"padding: 0 1em 0 0.5em; text-align: right; border: none;\">\n        +10.110\n    </td>\n    <td style=\"padding: 0 0.5em 0 0.5em; text-align: left; border: none;\">\n        word.lower():bitterness\n    </td>\n    \n</tr>\n        \n            <tr style=\"background-color: hsl(120, 100.00%, 81.92%); border: none;\">\n    <td style=\"padding: 0 1em 0 0.5em; text-align: right; border: none;\">\n        +8.755\n    </td>\n    <td style=\"padding: 0 0.5em 0 0.5em; text-align: left; border: none;\">\n        word.lower():microwaves\n    </td>\n    \n</tr>\n        \n            <tr style=\"background-color: hsl(120, 100.00%, 83.34%); border: none;\">\n    <td style=\"padding: 0 1em 0 0.5em; text-align: right; border: none;\">\n        +7.790\n    </td>\n    <td style=\"padding: 0 0.5em 0 0.5em; text-align: left; border: none;\">\n        word.lower():blond\n    </td>\n    \n</tr>\n        \n            <tr style=\"background-color: hsl(120, 100.00%, 83.39%); border: none;\">\n    <td style=\"padding: 0 1em 0 0.5em; text-align: right; border: none;\">\n        +7.754\n    </td>\n    <td style=\"padding: 0 0.5em 0 0.5em; text-align: left; border: none;\">\n        word.lower():anglaise\n    </td>\n    \n</tr>\n        \n            <tr style=\"background-color: hsl(120, 100.00%, 83.44%); border: none;\">\n    <td style=\"padding: 0 1em 0 0.5em; text-align: right; border: none;\">\n        +7.718\n    </td>\n    <td style=\"padding: 0 0.5em 0 0.5em; text-align: left; border: none;\">\n        word.lower():billy\n    </td>\n    \n</tr>\n        \n            <tr style=\"background-color: hsl(120, 100.00%, 83.72%); border: none;\">\n    <td style=\"padding: 0 1em 0 0.5em; text-align: right; border: none;\">\n        +7.532\n    </td>\n    <td style=\"padding: 0 0.5em 0 0.5em; text-align: left; border: none;\">\n        word.lower():betty\n    </td>\n    \n</tr>\n        \n            <tr style=\"background-color: hsl(120, 100.00%, 83.94%); border: none;\">\n    <td style=\"padding: 0 1em 0 0.5em; text-align: right; border: none;\">\n        +7.393\n    </td>\n    <td style=\"padding: 0 0.5em 0 0.5em; text-align: left; border: none;\">\n        word.lower():copper\n    </td>\n    \n</tr>\n        \n            <tr style=\"background-color: hsl(120, 100.00%, 84.09%); border: none;\">\n    <td style=\"padding: 0 1em 0 0.5em; text-align: right; border: none;\">\n        +7.290\n    </td>\n    <td style=\"padding: 0 0.5em 0 0.5em; text-align: left; border: none;\">\n        word.lower():calf\n    </td>\n    \n</tr>\n        \n            <tr style=\"background-color: hsl(120, 100.00%, 84.23%); border: none;\">\n    <td style=\"padding: 0 1em 0 0.5em; text-align: right; border: none;\">\n        +7.202\n    </td>\n    <td style=\"padding: 0 0.5em 0 0.5em; text-align: left; border: none;\">\n        word.lower():picnics\n    </td>\n    \n</tr>\n        \n            <tr style=\"background-color: hsl(120, 100.00%, 84.27%); border: none;\">\n    <td style=\"padding: 0 1em 0 0.5em; text-align: right; border: none;\">\n        +7.173\n    </td>\n    <td style=\"padding: 0 0.5em 0 0.5em; text-align: left; border: none;\">\n        word.lower():dehydration\n    </td>\n    \n</tr>\n        \n            <tr style=\"background-color: hsl(120, 100.00%, 84.28%); border: none;\">\n    <td style=\"padding: 0 1em 0 0.5em; text-align: right; border: none;\">\n        +7.166\n    </td>\n    <td style=\"padding: 0 0.5em 0 0.5em; text-align: left; border: none;\">\n        word.lower():hing\n    </td>\n    \n</tr>\n        \n            <tr style=\"background-color: hsl(120, 100.00%, 84.31%); border: none;\">\n    <td style=\"padding: 0 1em 0 0.5em; text-align: right; border: none;\">\n        +7.149\n    </td>\n    <td style=\"padding: 0 0.5em 0 0.5em; text-align: left; border: none;\">\n        word.lower():souvlakis\n    </td>\n    \n</tr>\n        \n            <tr style=\"background-color: hsl(120, 100.00%, 84.38%); border: none;\">\n    <td style=\"padding: 0 1em 0 0.5em; text-align: right; border: none;\">\n        +7.104\n    </td>\n    <td style=\"padding: 0 0.5em 0 0.5em; text-align: left; border: none;\">\n        word.lower():sling\n    </td>\n    \n</tr>\n        \n            <tr style=\"background-color: hsl(120, 100.00%, 84.52%); border: none;\">\n    <td style=\"padding: 0 1em 0 0.5em; text-align: right; border: none;\">\n        +7.010\n    </td>\n    <td style=\"padding: 0 0.5em 0 0.5em; text-align: left; border: none;\">\n        word.lower():broths\n    </td>\n    \n</tr>\n        \n            <tr style=\"background-color: hsl(120, 100.00%, 84.60%); border: none;\">\n    <td style=\"padding: 0 1em 0 0.5em; text-align: right; border: none;\">\n        +6.961\n    </td>\n    <td style=\"padding: 0 0.5em 0 0.5em; text-align: left; border: none;\">\n        word.lower():bats\n    </td>\n    \n</tr>\n        \n            <tr style=\"background-color: hsl(120, 100.00%, 84.63%); border: none;\">\n    <td style=\"padding: 0 1em 0 0.5em; text-align: right; border: none;\">\n        +6.943\n    </td>\n    <td style=\"padding: 0 0.5em 0 0.5em; text-align: left; border: none;\">\n        word.lower():thickener\n    </td>\n    \n</tr>\n        \n            <tr style=\"background-color: hsl(120, 100.00%, 84.63%); border: none;\">\n    <td style=\"padding: 0 1em 0 0.5em; text-align: right; border: none;\">\n        +6.941\n    </td>\n    <td style=\"padding: 0 0.5em 0 0.5em; text-align: left; border: none;\">\n        word.lower():flatware\n    </td>\n    \n</tr>\n        \n            <tr style=\"background-color: hsl(120, 100.00%, 84.65%); border: none;\">\n    <td style=\"padding: 0 1em 0 0.5em; text-align: right; border: none;\">\n        +6.929\n    </td>\n    <td style=\"padding: 0 0.5em 0 0.5em; text-align: left; border: none;\">\n        word.lower():bastion\n    </td>\n    \n</tr>\n        \n            <tr style=\"background-color: hsl(120, 100.00%, 84.67%); border: none;\">\n    <td style=\"padding: 0 1em 0 0.5em; text-align: right; border: none;\">\n        +6.915\n    </td>\n    <td style=\"padding: 0 0.5em 0 0.5em; text-align: left; border: none;\">\n        word.lower():absinthe\n    </td>\n    \n</tr>\n        \n            <tr style=\"background-color: hsl(120, 100.00%, 84.75%); border: none;\">\n    <td style=\"padding: 0 1em 0 0.5em; text-align: right; border: none;\">\n        +6.863\n    </td>\n    <td style=\"padding: 0 0.5em 0 0.5em; text-align: left; border: none;\">\n        word.lower():alligator\n    </td>\n    \n</tr>\n        \n            <tr style=\"background-color: hsl(120, 100.00%, 84.82%); border: none;\">\n    <td style=\"padding: 0 1em 0 0.5em; text-align: right; border: none;\">\n        +6.815\n    </td>\n    <td style=\"padding: 0 0.5em 0 0.5em; text-align: left; border: none;\">\n        word.lower():hoagies\n    </td>\n    \n</tr>\n        \n            <tr style=\"background-color: hsl(120, 100.00%, 84.94%); border: none;\">\n    <td style=\"padding: 0 1em 0 0.5em; text-align: right; border: none;\">\n        +6.742\n    </td>\n    <td style=\"padding: 0 0.5em 0 0.5em; text-align: left; border: none;\">\n        word.lower():botanical\n    </td>\n    \n</tr>\n        \n            <tr style=\"background-color: hsl(120, 100.00%, 84.98%); border: none;\">\n    <td style=\"padding: 0 1em 0 0.5em; text-align: right; border: none;\">\n        +6.717\n    </td>\n    <td style=\"padding: 0 0.5em 0 0.5em; text-align: left; border: none;\">\n        word.lower():lunchmeat\n    </td>\n    \n</tr>\n        \n            <tr style=\"background-color: hsl(120, 100.00%, 85.11%); border: none;\">\n    <td style=\"padding: 0 1em 0 0.5em; text-align: right; border: none;\">\n        +6.633\n    </td>\n    <td style=\"padding: 0 0.5em 0 0.5em; text-align: left; border: none;\">\n        word.lower():fern\n    </td>\n    \n</tr>\n        \n            <tr style=\"background-color: hsl(120, 100.00%, 85.22%); border: none;\">\n    <td style=\"padding: 0 1em 0 0.5em; text-align: right; border: none;\">\n        +6.564\n    </td>\n    <td style=\"padding: 0 0.5em 0 0.5em; text-align: left; border: none;\">\n        word.lower():bias\n    </td>\n    \n</tr>\n        \n            <tr style=\"background-color: hsl(120, 100.00%, 85.22%); border: none;\">\n    <td style=\"padding: 0 1em 0 0.5em; text-align: right; border: none;\">\n        +6.560\n    </td>\n    <td style=\"padding: 0 0.5em 0 0.5em; text-align: left; border: none;\">\n        word.lower():saddle\n    </td>\n    \n</tr>\n        \n            <tr style=\"background-color: hsl(120, 100.00%, 85.27%); border: none;\">\n    <td style=\"padding: 0 1em 0 0.5em; text-align: right; border: none;\">\n        +6.530\n    </td>\n    <td style=\"padding: 0 0.5em 0 0.5em; text-align: left; border: none;\">\n        word.lower():brewer\n    </td>\n    \n</tr>\n        \n            <tr style=\"background-color: hsl(120, 100.00%, 85.30%); border: none;\">\n    <td style=\"padding: 0 1em 0 0.5em; text-align: right; border: none;\">\n        +6.515\n    </td>\n    <td style=\"padding: 0 0.5em 0 0.5em; text-align: left; border: none;\">\n        word.lower():microbrewery\n    </td>\n    \n</tr>\n        \n            <tr style=\"background-color: hsl(120, 100.00%, 85.37%); border: none;\">\n    <td style=\"padding: 0 1em 0 0.5em; text-align: right; border: none;\">\n        +6.471\n    </td>\n    <td style=\"padding: 0 0.5em 0 0.5em; text-align: left; border: none;\">\n        word.lower():hopper\n    </td>\n    \n</tr>\n        \n            <tr style=\"background-color: hsl(120, 100.00%, 85.43%); border: none;\">\n    <td style=\"padding: 0 1em 0 0.5em; text-align: right; border: none;\">\n        +6.428\n    </td>\n    <td style=\"padding: 0 0.5em 0 0.5em; text-align: left; border: none;\">\n        word.lower():buckeyes\n    </td>\n    \n</tr>\n        \n        \n            <tr style=\"background-color: hsl(120, 100.00%, 85.43%); border: none;\">\n                <td colspan=\"2\" style=\"padding: 0 0.5em 0 0.5em; text-align: center; border: none; white-space: nowrap;\">\n                    <i>&hellip; 16998 more positive &hellip;</i>\n                </td>\n            </tr>\n        \n\n        \n            <tr style=\"background-color: hsl(0, 100.00%, 80.00%); border: none;\">\n                <td colspan=\"2\" style=\"padding: 0 0.5em 0 0.5em; text-align: center; border: none; white-space: nowrap;\">\n                    <i>&hellip; 4337 more negative &hellip;</i>\n                </td>\n            </tr>\n        \n        \n\n        </tbody>\n    </table>\n\n                                \n                            \n                        </td>\n                    \n                \n            </tr>\n        </table>\n    \n\n    \n        \n\n\n    \n        \n\n\n    \n\n\n    \n\n    \n\n    \n\n\n    \n\n    \n\n    \n\n    \n\n    \n\n    \n\n\n    \n\n    \n\n    \n\n    \n\n    \n\n    \n\n\n\n"
     },
     "metadata": {},
     "execution_count": 74
    }
   ],
   "source": [
    "eli5.show_weights(crf, top=30)\n"
   ]
  },
  {
   "cell_type": "code",
   "execution_count": 74,
   "metadata": {},
   "outputs": [],
   "source": [
    "# Testing on yelp data\n",
    "import pandas as pd"
   ]
  },
  {
   "cell_type": "code",
   "execution_count": 75,
   "metadata": {},
   "outputs": [],
   "source": [
    "df = pd.read_csv('./reviews.csv')"
   ]
  },
  {
   "cell_type": "code",
   "execution_count": 76,
   "metadata": {},
   "outputs": [
    {
     "output_type": "execute_result",
     "data": {
      "text/plain": [
       "   Unnamed: 0               review_id                 user_id  \\\n",
       "0           0  xQY8N_XvtGbearJ5X4QryQ  OwjRMXRC0KyPrIlcjaXeFQ   \n",
       "1           1  UmFMZ8PyXZTY2QcwzsfQYA  nIJD_7ZXHq-FX8byPMOkMQ   \n",
       "2           2  LG2ZaYiOgpr2DK_90pYjNw  V34qejxNsCbcgD8C0HVk-Q   \n",
       "3           3  i6g_oA9Yf9Y31qt0wibXpw  ofKDkJKXSKZXu5xJNGiiBQ   \n",
       "4           4  6TdNDKywdbjoTkizeMce8A  UgMW8bLE0QMJDCkQ1Ax5Mg   \n",
       "\n",
       "              business_id  stars  useful  funny  cool  \\\n",
       "0  -MhfebM0QIsKt87iDN-FNw      2       5      0     0   \n",
       "1  lbrU8StCq3yDfr-QMnGrmQ      1       1      1     0   \n",
       "2  HQl28KMwrEKHqhFrrDqVNQ      5       1      0     0   \n",
       "3  5JxlZaqCnk1MnbgRirs40Q      1       0      0     0   \n",
       "4  IS4cv902ykd8wj1TR0N3-A      4       0      0     0   \n",
       "\n",
       "                                                text                 date  \n",
       "0  As someone who has worked with many museums, I...  2015-04-15 05:21:16  \n",
       "1  I am actually horrified this place is still in...  2013-12-07 03:16:52  \n",
       "2  I love Deagan's. I do. I really do. The atmosp...  2015-12-05 03:18:11  \n",
       "3  Dismal, lukewarm, defrosted-tasting \"TexMex\" g...  2011-05-27 05:30:52  \n",
       "4  Oh happy day, finally have a Canes near my cas...  2017-01-14 21:56:57  "
      ],
      "text/html": "<div>\n<style scoped>\n    .dataframe tbody tr th:only-of-type {\n        vertical-align: middle;\n    }\n\n    .dataframe tbody tr th {\n        vertical-align: top;\n    }\n\n    .dataframe thead th {\n        text-align: right;\n    }\n</style>\n<table border=\"1\" class=\"dataframe\">\n  <thead>\n    <tr style=\"text-align: right;\">\n      <th></th>\n      <th>Unnamed: 0</th>\n      <th>review_id</th>\n      <th>user_id</th>\n      <th>business_id</th>\n      <th>stars</th>\n      <th>useful</th>\n      <th>funny</th>\n      <th>cool</th>\n      <th>text</th>\n      <th>date</th>\n    </tr>\n  </thead>\n  <tbody>\n    <tr>\n      <th>0</th>\n      <td>0</td>\n      <td>xQY8N_XvtGbearJ5X4QryQ</td>\n      <td>OwjRMXRC0KyPrIlcjaXeFQ</td>\n      <td>-MhfebM0QIsKt87iDN-FNw</td>\n      <td>2</td>\n      <td>5</td>\n      <td>0</td>\n      <td>0</td>\n      <td>As someone who has worked with many museums, I...</td>\n      <td>2015-04-15 05:21:16</td>\n    </tr>\n    <tr>\n      <th>1</th>\n      <td>1</td>\n      <td>UmFMZ8PyXZTY2QcwzsfQYA</td>\n      <td>nIJD_7ZXHq-FX8byPMOkMQ</td>\n      <td>lbrU8StCq3yDfr-QMnGrmQ</td>\n      <td>1</td>\n      <td>1</td>\n      <td>1</td>\n      <td>0</td>\n      <td>I am actually horrified this place is still in...</td>\n      <td>2013-12-07 03:16:52</td>\n    </tr>\n    <tr>\n      <th>2</th>\n      <td>2</td>\n      <td>LG2ZaYiOgpr2DK_90pYjNw</td>\n      <td>V34qejxNsCbcgD8C0HVk-Q</td>\n      <td>HQl28KMwrEKHqhFrrDqVNQ</td>\n      <td>5</td>\n      <td>1</td>\n      <td>0</td>\n      <td>0</td>\n      <td>I love Deagan's. I do. I really do. The atmosp...</td>\n      <td>2015-12-05 03:18:11</td>\n    </tr>\n    <tr>\n      <th>3</th>\n      <td>3</td>\n      <td>i6g_oA9Yf9Y31qt0wibXpw</td>\n      <td>ofKDkJKXSKZXu5xJNGiiBQ</td>\n      <td>5JxlZaqCnk1MnbgRirs40Q</td>\n      <td>1</td>\n      <td>0</td>\n      <td>0</td>\n      <td>0</td>\n      <td>Dismal, lukewarm, defrosted-tasting \"TexMex\" g...</td>\n      <td>2011-05-27 05:30:52</td>\n    </tr>\n    <tr>\n      <th>4</th>\n      <td>4</td>\n      <td>6TdNDKywdbjoTkizeMce8A</td>\n      <td>UgMW8bLE0QMJDCkQ1Ax5Mg</td>\n      <td>IS4cv902ykd8wj1TR0N3-A</td>\n      <td>4</td>\n      <td>0</td>\n      <td>0</td>\n      <td>0</td>\n      <td>Oh happy day, finally have a Canes near my cas...</td>\n      <td>2017-01-14 21:56:57</td>\n    </tr>\n  </tbody>\n</table>\n</div>"
     },
     "metadata": {},
     "execution_count": 76
    }
   ],
   "source": [
    "df.head()"
   ]
  },
  {
   "cell_type": "code",
   "execution_count": 77,
   "metadata": {},
   "outputs": [],
   "source": [
    "df1 = df['text'][0:3]"
   ]
  },
  {
   "cell_type": "code",
   "execution_count": 78,
   "metadata": {},
   "outputs": [
    {
     "output_type": "execute_result",
     "data": {
      "text/plain": [
       "0    As someone who has worked with many museums, I...\n",
       "1    I am actually horrified this place is still in...\n",
       "2    I love Deagan's. I do. I really do. The atmosp...\n",
       "Name: text, dtype: object"
      ]
     },
     "metadata": {},
     "execution_count": 78
    }
   ],
   "source": [
    "df1"
   ]
  },
  {
   "cell_type": "code",
   "execution_count": null,
   "metadata": {},
   "outputs": [],
   "source": []
  }
 ]
}