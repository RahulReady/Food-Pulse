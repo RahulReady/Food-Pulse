{
 "cells": [
  {
   "cell_type": "markdown",
   "metadata": {},
   "source": [
    "## Load packages"
   ]
  },
  {
   "cell_type": "code",
   "execution_count": 1,
   "metadata": {},
   "outputs": [],
   "source": [
    "#!python -m spacy download en_core_web_lg\n",
    "# !conda install spacy download en_core_web_lg\n",
    "# !python -m spacy validate\n",
    "import pandas as pd\n",
    "import spacy.displacy as displacy\n",
    "from __future__ import unicode_literals, print_function\n",
    "import plac\n",
    "import random\n",
    "from pathlib import Path\n",
    "import spacy\n",
    "from tqdm import tqdm\n",
    "import random"
   ]
  },
  {
   "cell_type": "markdown",
   "metadata": {},
   "source": [
    "## Working with NER"
   ]
  },
  {
   "cell_type": "code",
   "execution_count": 5,
   "metadata": {},
   "outputs": [
    {
     "data": {
      "text/plain": [
       "pandas.core.frame.DataFrame"
      ]
     },
     "execution_count": 5,
     "metadata": {},
     "output_type": "execute_result"
    }
   ],
   "source": [
    "df = pd.read_csv('ubereats_cleaned.csv', header=None)\n",
    "type(df)"
   ]
  },
  {
   "cell_type": "code",
   "execution_count": 6,
   "metadata": {},
   "outputs": [
    {
     "data": {
      "text/html": [
       "<div>\n",
       "<style scoped>\n",
       "    .dataframe tbody tr th:only-of-type {\n",
       "        vertical-align: middle;\n",
       "    }\n",
       "\n",
       "    .dataframe tbody tr th {\n",
       "        vertical-align: top;\n",
       "    }\n",
       "\n",
       "    .dataframe thead th {\n",
       "        text-align: right;\n",
       "    }\n",
       "</style>\n",
       "<table border=\"1\" class=\"dataframe\">\n",
       "  <thead>\n",
       "    <tr style=\"text-align: right;\">\n",
       "      <th></th>\n",
       "      <th>0</th>\n",
       "    </tr>\n",
       "  </thead>\n",
       "  <tbody>\n",
       "    <tr>\n",
       "      <th>0</th>\n",
       "      <td>grilled chicken &amp; ribs box</td>\n",
       "    </tr>\n",
       "    <tr>\n",
       "      <th>1</th>\n",
       "      <td>chicken soup with noodles</td>\n",
       "    </tr>\n",
       "    <tr>\n",
       "      <th>2</th>\n",
       "      <td>double ka meetha</td>\n",
       "    </tr>\n",
       "    <tr>\n",
       "      <th>3</th>\n",
       "      <td>skillet cinnamon roll pint</td>\n",
       "    </tr>\n",
       "    <tr>\n",
       "      <th>4</th>\n",
       "      <td>xuan asian bowl</td>\n",
       "    </tr>\n",
       "  </tbody>\n",
       "</table>\n",
       "</div>"
      ],
      "text/plain": [
       "                            0\n",
       "0  grilled chicken & ribs box\n",
       "1   chicken soup with noodles\n",
       "2            double ka meetha\n",
       "3  skillet cinnamon roll pint\n",
       "4             xuan asian bowl"
      ]
     },
     "execution_count": 6,
     "metadata": {},
     "output_type": "execute_result"
    }
   ],
   "source": [
    "df.head()"
   ]
  },
  {
   "cell_type": "code",
   "execution_count": 38,
   "metadata": {},
   "outputs": [
    {
     "data": {
      "text/plain": [
       "0                       grilled chicken & ribs box\n",
       "1                        chicken soup with noodles\n",
       "2                                 double ka meetha\n",
       "3                       skillet cinnamon roll pint\n",
       "4                                  xuan asian bowl\n",
       "5                              red bull sugar free\n",
       "6                                    pork teriyaki\n",
       "7                   dr pepper bbq ribs family meal\n",
       "8     baked chocolate cookie topped with ice cream\n",
       "9                                  banana smoothie\n",
       "10                                       gallon un\n",
       "11                  horizon chocolate organic milk\n",
       "12                                  chicken finger\n",
       "13                         broccoli w garlic sauce\n",
       "14                   family bundle salmon saporito\n",
       "15                                    beef sliders\n",
       "16                             buffalo tender wrap\n",
       "17                     german chocolate cake shake\n",
       "18                                 cheesy broccoli\n",
       "19                           matcha ~ serve people\n",
       "20                                 classic cannoli\n",
       "21                                 pie zone: apple\n",
       "22                                 shrimp teriyaki\n",
       "23                  hatch green chile cheeseburger\n",
       "24             shredded pork stomach with cilantro\n",
       "25                                   jamocha shake\n",
       "26                                      turkey sub\n",
       "27                        side of cauliflower rice\n",
       "28                                   sandwich only\n",
       "29                                side of la steak\n",
       "30                                         shrimp \n",
       "31                            toasted s'mores pint\n",
       "32                             kiddie fingerz meal\n",
       "33                                vegetable pakora\n",
       "34             catering chicken tequila fettuccine\n",
       "35       iced clover brewed decaf pike place roast\n",
       "36                                         kra pao\n",
       "37                                    shrimp sushi\n",
       "38                                  mini ice cream\n",
       "39                               thai chicken bowl\n",
       "40                                 classic chicken\n",
       "41                                     sushi lover\n",
       "42             homestyle asiago ranch chicken club\n",
       "43                                         hummus \n",
       "44                            baby back rib dinner\n",
       "45                                     pumpkin pie\n",
       "46                            chicken falafel wrap\n",
       "47               southern tlc fillet sandwich meal\n",
       "48                 original chicken finger platter\n",
       "49                                     app sampler\n",
       "Name: 0, dtype: object"
      ]
     },
     "execution_count": 38,
     "metadata": {},
     "output_type": "execute_result"
    }
   ],
   "source": [
    "df[0].head(50)"
   ]
  },
  {
   "cell_type": "code",
   "execution_count": 39,
   "metadata": {},
   "outputs": [],
   "source": [
    "data = list(df[0].head(50))"
   ]
  },
  {
   "cell_type": "code",
   "execution_count": 40,
   "metadata": {},
   "outputs": [],
   "source": [
    "def find_nth(haystack, needle, n):\n",
    "    start = haystack.find(needle)\n",
    "    while start >= 0 and n > 1:\n",
    "        start = haystack.find(needle, start+len(needle))\n",
    "        n -= 1\n",
    "    return start"
   ]
  },
  {
   "cell_type": "markdown",
   "metadata": {},
   "source": [
    "## Train data"
   ]
  },
  {
   "cell_type": "code",
   "execution_count": 41,
   "metadata": {},
   "outputs": [],
   "source": [
    "random.seed(42)"
   ]
  },
  {
   "cell_type": "code",
   "execution_count": 42,
   "metadata": {},
   "outputs": [],
   "source": [
    "sentences = [\n",
    "    'I like to eat __ at this joint',\n",
    "    'The __ was fire', \n",
    "    '__ are amazing, you have to try it!', \n",
    "    'Everytime I visit, I always get __',\n",
    "    'My friends and I are never getting __ again',\n",
    "    'This place always messes up my order of __',\n",
    "    'I think that __ is the best thing on the menu'\n",
    "]\n"
   ]
  },
  {
   "cell_type": "code",
   "execution_count": 43,
   "metadata": {},
   "outputs": [],
   "source": [
    "TRAIN_DATA = []\n",
    "\n",
    "target_sent = ''\n",
    "nbr_of_sentences = len(sentences)\n",
    "\n",
    "for ind, val in enumerate(data):\n",
    "    \n",
    "    for i in range(nbr_of_sentences):\n",
    "        if ind % nbr_of_sentences == i:\n",
    "            target_sent = sentences[i]\n",
    "            ind_start = target_sent.find('__')\n",
    "            ind_end = ind_start + len(val)\n",
    "            target_sent = target_sent.replace('__', val)\n",
    "            break\n",
    "    \n",
    "#     if ind % 3 == 0:\n",
    "#         target_sent = sentences[0]\n",
    "#         ind_start = target_sent.find('__')\n",
    "#         ind_end = ind_start + len(val)\n",
    "#         target_sent = target_sent.replace('__', val)\n",
    "        \n",
    "#     elif ind % 3 == 1:\n",
    "#         target_sent = sentences[1]\n",
    "#         ind_start = target_sent.find('__')\n",
    "#         ind_end = ind_start + len(val)\n",
    "#         target_sent = target_sent.replace('__', val)\n",
    "        \n",
    "#     elif ind % 3 == 2:\n",
    "#         target_sent = sentences[2]\n",
    "#         ind_start = target_sent.find('__')\n",
    "#         ind_end = ind_start + len(val)\n",
    "#         target_sent = target_sent.replace('__', val)\n",
    "        \n",
    "        \n",
    "        \n",
    "#     random_sentence = gen.sentence()\n",
    "#     count = random_sentence.count(' ')\n",
    "#     random_space = randrange(count)\n",
    "    #index = find_nth(random_sentence, ' ', random_space)\n",
    "    #final_sentence = random_sentence[: index]+ ' ' + val + random_sentence[index:]\n",
    "    #final_sentence.replace('\\n', '')\n",
    "    target_sent = target_sent.lower()\n",
    "    #final_sentence = re.sub(r'[^a-z ]', '', final_sentence)\n",
    "    new_format = (target_sent, {'entities':[(ind_start, ind_end, 'FOOD')]})\n",
    "    TRAIN_DATA.append(new_format)\n",
    "\n",
    " #(\"Who is Shaka Khan?\", {\"entities\": [(7, 17, \"PERSON\")]}),\n",
    "# TRAIN_DATA = [\n",
    "#     ('hot pepper chicken nuggets are best at this joint', {\n",
    "#         'entities': [(0, 26, 'FOOD')]\n",
    "#     }),\n",
    "#      ('Turkey tacos was fire', {\n",
    "#         'entities': [(0, 12, 'FOOD')]\n",
    "#     }),\n",
    "#     ('Pork Ribs are good, you have to try it!', {\n",
    "#         'entities': [(0, 9, 'FOOD')]\n",
    "#     })\n",
    "# ]\n",
    "\n",
    "\n",
    "#   'entities': [(7, 13, 'FOOD'), (18, 24, 'LOC')] - more than 1 entity in a sentence"
   ]
  },
  {
   "cell_type": "code",
   "execution_count": 44,
   "metadata": {},
   "outputs": [
    {
     "data": {
      "text/plain": [
       "[('i like to eat grilled chicken & ribs box at this joint',\n",
       "  {'entities': [(14, 40, 'FOOD')]}),\n",
       " ('the chicken soup with noodles was fire', {'entities': [(4, 29, 'FOOD')]}),\n",
       " ('double ka meetha are amazing, you have to try it!',\n",
       "  {'entities': [(0, 16, 'FOOD')]}),\n",
       " ('everytime i visit, i always get skillet cinnamon roll pint',\n",
       "  {'entities': [(32, 58, 'FOOD')]}),\n",
       " ('my friends and i are never getting xuan asian bowl again',\n",
       "  {'entities': [(35, 50, 'FOOD')]}),\n",
       " ('this place always messes up my order of red bull sugar free',\n",
       "  {'entities': [(40, 59, 'FOOD')]}),\n",
       " ('i think that pork teriyaki is the best thing on the menu',\n",
       "  {'entities': [(13, 26, 'FOOD')]}),\n",
       " ('i like to eat dr pepper bbq ribs family meal at this joint',\n",
       "  {'entities': [(14, 44, 'FOOD')]}),\n",
       " ('the baked chocolate cookie topped with ice cream was fire',\n",
       "  {'entities': [(4, 48, 'FOOD')]}),\n",
       " ('banana smoothie are amazing, you have to try it!',\n",
       "  {'entities': [(0, 15, 'FOOD')]}),\n",
       " ('everytime i visit, i always get gallon un',\n",
       "  {'entities': [(32, 41, 'FOOD')]}),\n",
       " ('my friends and i are never getting horizon chocolate organic milk again',\n",
       "  {'entities': [(35, 65, 'FOOD')]}),\n",
       " ('this place always messes up my order of chicken finger',\n",
       "  {'entities': [(40, 54, 'FOOD')]}),\n",
       " ('i think that broccoli w garlic sauce is the best thing on the menu',\n",
       "  {'entities': [(13, 36, 'FOOD')]}),\n",
       " ('i like to eat family bundle salmon saporito at this joint',\n",
       "  {'entities': [(14, 43, 'FOOD')]}),\n",
       " ('the beef sliders was fire', {'entities': [(4, 16, 'FOOD')]}),\n",
       " ('buffalo tender wrap are amazing, you have to try it!',\n",
       "  {'entities': [(0, 19, 'FOOD')]}),\n",
       " ('everytime i visit, i always get german chocolate cake shake',\n",
       "  {'entities': [(32, 59, 'FOOD')]}),\n",
       " ('my friends and i are never getting cheesy broccoli again',\n",
       "  {'entities': [(35, 50, 'FOOD')]}),\n",
       " ('this place always messes up my order of matcha ~ serve people',\n",
       "  {'entities': [(40, 61, 'FOOD')]}),\n",
       " ('i think that classic cannoli is the best thing on the menu',\n",
       "  {'entities': [(13, 28, 'FOOD')]}),\n",
       " ('i like to eat pie zone: apple at this joint',\n",
       "  {'entities': [(14, 29, 'FOOD')]}),\n",
       " ('the shrimp teriyaki was fire', {'entities': [(4, 19, 'FOOD')]}),\n",
       " ('hatch green chile cheeseburger are amazing, you have to try it!',\n",
       "  {'entities': [(0, 30, 'FOOD')]}),\n",
       " ('everytime i visit, i always get shredded pork stomach with cilantro',\n",
       "  {'entities': [(32, 67, 'FOOD')]}),\n",
       " ('my friends and i are never getting jamocha shake again',\n",
       "  {'entities': [(35, 48, 'FOOD')]}),\n",
       " ('this place always messes up my order of turkey sub',\n",
       "  {'entities': [(40, 50, 'FOOD')]}),\n",
       " ('i think that side of cauliflower rice is the best thing on the menu',\n",
       "  {'entities': [(13, 37, 'FOOD')]}),\n",
       " ('i like to eat sandwich only at this joint',\n",
       "  {'entities': [(14, 27, 'FOOD')]}),\n",
       " ('the side of la steak was fire', {'entities': [(4, 20, 'FOOD')]}),\n",
       " ('shrimp  are amazing, you have to try it!', {'entities': [(0, 7, 'FOOD')]}),\n",
       " (\"everytime i visit, i always get toasted s'mores pint\",\n",
       "  {'entities': [(32, 52, 'FOOD')]}),\n",
       " ('my friends and i are never getting kiddie fingerz meal again',\n",
       "  {'entities': [(35, 54, 'FOOD')]}),\n",
       " ('this place always messes up my order of vegetable pakora',\n",
       "  {'entities': [(40, 56, 'FOOD')]}),\n",
       " ('i think that catering chicken tequila fettuccine is the best thing on the menu',\n",
       "  {'entities': [(13, 48, 'FOOD')]}),\n",
       " ('i like to eat iced clover brewed decaf pike place roast at this joint',\n",
       "  {'entities': [(14, 55, 'FOOD')]}),\n",
       " ('the kra pao was fire', {'entities': [(4, 11, 'FOOD')]}),\n",
       " ('shrimp sushi are amazing, you have to try it!',\n",
       "  {'entities': [(0, 12, 'FOOD')]}),\n",
       " ('everytime i visit, i always get mini ice cream',\n",
       "  {'entities': [(32, 46, 'FOOD')]}),\n",
       " ('my friends and i are never getting thai chicken bowl again',\n",
       "  {'entities': [(35, 52, 'FOOD')]}),\n",
       " ('this place always messes up my order of classic chicken',\n",
       "  {'entities': [(40, 55, 'FOOD')]}),\n",
       " ('i think that sushi lover is the best thing on the menu',\n",
       "  {'entities': [(13, 24, 'FOOD')]}),\n",
       " ('i like to eat homestyle asiago ranch chicken club at this joint',\n",
       "  {'entities': [(14, 49, 'FOOD')]}),\n",
       " ('the hummus  was fire', {'entities': [(4, 11, 'FOOD')]}),\n",
       " ('baby back rib dinner are amazing, you have to try it!',\n",
       "  {'entities': [(0, 20, 'FOOD')]}),\n",
       " ('everytime i visit, i always get pumpkin pie',\n",
       "  {'entities': [(32, 43, 'FOOD')]}),\n",
       " ('my friends and i are never getting chicken falafel wrap again',\n",
       "  {'entities': [(35, 55, 'FOOD')]}),\n",
       " ('this place always messes up my order of southern tlc fillet sandwich meal',\n",
       "  {'entities': [(40, 73, 'FOOD')]}),\n",
       " ('i think that original chicken finger platter is the best thing on the menu',\n",
       "  {'entities': [(13, 44, 'FOOD')]}),\n",
       " ('i like to eat app sampler at this joint', {'entities': [(14, 25, 'FOOD')]})]"
      ]
     },
     "execution_count": 44,
     "metadata": {},
     "output_type": "execute_result"
    }
   ],
   "source": [
    "TRAIN_DATA"
   ]
  },
  {
   "cell_type": "code",
   "execution_count": 15,
   "metadata": {},
   "outputs": [],
   "source": [
    "# # GOD TIER COPY\n",
    "# TRAIN_DATA = [\n",
    "#     ('I like to eat hot pepper chicken nuggets at this joint', {\n",
    "#         'entities': [(14, 40, 'FOOD')]\n",
    "#     }),\n",
    "#      ('The Turkey tacos was fire', {\n",
    "#         'entities': [(4, 16, 'FOOD')]\n",
    "#     }),\n",
    "#     ('Pork Ribs You have to try it!', {\n",
    "#         'entities': [(0, 9, 'FOOD')]\n",
    "#     })\n",
    "# ]"
   ]
  },
  {
   "cell_type": "markdown",
   "metadata": {},
   "source": [
    "## Define variables"
   ]
  },
  {
   "cell_type": "code",
   "execution_count": 45,
   "metadata": {},
   "outputs": [],
   "source": [
    "model = None\n",
    "output_dir=Path(\"/Users/rahul/Desktop/entity/output_dir\")\n",
    "n_iter=10"
   ]
  },
  {
   "cell_type": "markdown",
   "metadata": {},
   "source": [
    "## Load the model"
   ]
  },
  {
   "cell_type": "code",
   "execution_count": 46,
   "metadata": {},
   "outputs": [
    {
     "name": "stdout",
     "output_type": "stream",
     "text": [
      "Created blank 'en' model\n"
     ]
    }
   ],
   "source": [
    "if model is not None:\n",
    "    nlp = spacy.load(model)  \n",
    "    print(\"Loaded model '%s'\" % model)\n",
    "else:\n",
    "    nlp = spacy.blank('en')  \n",
    "    print(\"Created blank 'en' model\")"
   ]
  },
  {
   "cell_type": "markdown",
   "metadata": {},
   "source": [
    "## Setup pipeline"
   ]
  },
  {
   "cell_type": "code",
   "execution_count": 47,
   "metadata": {},
   "outputs": [],
   "source": [
    "if 'ner' not in nlp.pipe_names:\n",
    "    ner = nlp.create_pipe('ner')\n",
    "    nlp.add_pipe(ner, last=True)\n",
    "else:\n",
    "    ner = nlp.get_pipe('ner')"
   ]
  },
  {
   "cell_type": "markdown",
   "metadata": {},
   "source": [
    "## Train the recognizer"
   ]
  },
  {
   "cell_type": "code",
   "execution_count": 49,
   "metadata": {},
   "outputs": [
    {
     "name": "stderr",
     "output_type": "stream",
     "text": [
      "  4%|▍         | 2/50 [00:00<00:02, 17.24it/s]"
     ]
    },
    {
     "name": "stdout",
     "output_type": "stream",
     "text": [
      "my friends and i are never getting cheesy broccoli again {'entities': [(35, 50, 'FOOD')]}\n",
      "(35, 50, 'FOOD')\n",
      "my friends and i are never getting jamocha shake again {'entities': [(35, 48, 'FOOD')]}\n",
      "(35, 48, 'FOOD')\n",
      "hatch green chile cheeseburger are amazing, you have to try it! {'entities': [(0, 30, 'FOOD')]}\n",
      "(0, 30, 'FOOD')\n",
      "everytime i visit, i always get skillet cinnamon roll pint {'entities': [(32, 58, 'FOOD')]}\n",
      "(32, 58, 'FOOD')\n",
      "banana smoothie are amazing, you have to try it! {'entities': [(0, 15, 'FOOD')]}\n",
      "(0, 15, 'FOOD')\n",
      "everytime i visit, i always get shredded pork stomach with cilantro {'entities': [(32, 67, 'FOOD')]}\n",
      "(32, 67, 'FOOD')\n",
      "double ka meetha are amazing, you have to try it! {'entities': [(0, 16, 'FOOD')]}\n",
      "(0, 16, 'FOOD')\n",
      "buffalo tender wrap are amazing, you have to try it! {'entities': [(0, 19, 'FOOD')]}\n",
      "(0, 19, 'FOOD')\n",
      "i think that original chicken finger platter is the best thing on the menu {'entities': [(13, 44, 'FOOD')]}\n",
      "(13, 44, 'FOOD')\n",
      "i like to eat iced clover brewed decaf pike place roast at this joint {'entities': [(14, 55, 'FOOD')]}\n",
      "(14, 55, 'FOOD')\n",
      "baby back rib dinner are amazing, you have to try it! {'entities': [(0, 20, 'FOOD')]}\n",
      "(0, 20, 'FOOD')\n",
      "i think that classic cannoli is the best thing on the menu {'entities': [(13, 28, 'FOOD')]}\n",
      "(13, 28, 'FOOD')\n",
      "this place always messes up my order of chicken finger {'entities': [(40, 54, 'FOOD')]}\n",
      "(40, 54, 'FOOD')\n",
      "my friends and i are never getting horizon chocolate organic milk again {'entities': [(35, 65, 'FOOD')]}\n",
      "(35, 65, 'FOOD')\n",
      "i like to eat dr pepper bbq ribs family meal at this joint {'entities': [(14, 44, 'FOOD')]}\n",
      "(14, 44, 'FOOD')\n",
      "this place always messes up my order of vegetable pakora {'entities': [(40, 56, 'FOOD')]}\n",
      "(40, 56, 'FOOD')\n",
      "i like to eat grilled chicken & ribs box at this joint {'entities': [(14, 40, 'FOOD')]}\n",
      "(14, 40, 'FOOD')\n",
      "the baked chocolate cookie topped with ice cream was fire {'entities': [(4, 48, 'FOOD')]}\n",
      "(4, 48, 'FOOD')\n",
      "i think that pork teriyaki is the best thing on the menu {'entities': [(13, 26, 'FOOD')]}\n",
      "(13, 26, 'FOOD')\n",
      "i like to eat sandwich only at this joint {'entities': [(14, 27, 'FOOD')]}\n",
      "(14, 27, 'FOOD')\n",
      "i think that sushi lover is the best thing on the menu {'entities': [(13, 24, 'FOOD')]}\n",
      "(13, 24, 'FOOD')\n",
      "everytime i visit, i always get gallon un {'entities': [(32, 41, 'FOOD')]}\n",
      "(32, 41, 'FOOD')\n",
      "i like to eat family bundle salmon saporito at this joint {'entities': [(14, 43, 'FOOD')]}\n",
      "(14, 43, 'FOOD')\n",
      "the hummus  was fire {'entities': [(4, 11, 'FOOD')]}\n",
      "(4, 11, 'FOOD')\n",
      "everytime i visit, i always get pumpkin pie {'entities': [(32, 43, 'FOOD')]}\n",
      "(32, 43, 'FOOD')\n",
      "i like to eat homestyle asiago ranch chicken club at this joint {'entities': [(14, 49, 'FOOD')]}\n",
      "(14, 49, 'FOOD')\n",
      "the side of la steak was fire {'entities': [(4, 20, 'FOOD')]}\n",
      "(4, 20, 'FOOD')\n",
      "i like to eat app sampler at this joint {'entities': [(14, 25, 'FOOD')]}\n",
      "(14, 25, 'FOOD')\n",
      "the kra pao was fire {'entities': [(4, 11, 'FOOD')]}\n",
      "(4, 11, 'FOOD')\n",
      "the beef sliders was fire {'entities': [(4, 16, 'FOOD')]}\n",
      "(4, 16, 'FOOD')\n",
      "everytime i visit, i always get toasted s'mores pint {'entities': [(32, 52, 'FOOD')]}\n",
      "(32, 52, 'FOOD')\n",
      "this place always messes up my order of classic chicken {'entities': [(40, 55, 'FOOD')]}\n",
      "(40, 55, 'FOOD')\n",
      "everytime i visit, i always get mini ice cream {'entities': [(32, 46, 'FOOD')]}\n",
      "(32, 46, 'FOOD')\n",
      "shrimp  are amazing, you have to try it! {'entities': [(0, 7, 'FOOD')]}\n",
      "(0, 7, 'FOOD')\n",
      "i think that side of cauliflower rice is the best thing on the menu {'entities': [(13, 37, 'FOOD')]}\n",
      "(13, 37, 'FOOD')\n",
      "this place always messes up my order of red bull sugar free {'entities': [(40, 59, 'FOOD')]}\n",
      "(40, 59, 'FOOD')\n",
      "i think that broccoli w garlic sauce is the best thing on the menu {'entities': [(13, 36, 'FOOD')]}\n",
      "(13, 36, 'FOOD')\n",
      "the chicken soup with noodles was fire {'entities': [(4, 29, 'FOOD')]}\n",
      "(4, 29, 'FOOD')\n",
      "this place always messes up my order of turkey sub {'entities': [(40, 50, 'FOOD')]}\n",
      "(40, 50, 'FOOD')\n",
      "i like to eat pie zone: apple at this joint {'entities': [(14, 29, 'FOOD')]}\n",
      "(14, 29, 'FOOD')\n",
      "everytime i visit, i always get german chocolate cake shake {'entities': [(32, 59, 'FOOD')]}\n",
      "(32, 59, 'FOOD')\n",
      "i think that catering chicken tequila fettuccine is the best thing on the menu {'entities': [(13, 48, 'FOOD')]}\n",
      "(13, 48, 'FOOD')\n",
      "my friends and i are never getting thai chicken bowl again {'entities': [(35, 52, 'FOOD')]}\n",
      "(35, 52, 'FOOD')\n",
      "this place always messes up my order of matcha ~ serve people {'entities': [(40, 61, 'FOOD')]}\n",
      "(40, 61, 'FOOD')\n",
      "the shrimp teriyaki was fire {'entities': [(4, 19, 'FOOD')]}\n",
      "(4, 19, 'FOOD')\n",
      "my friends and i are never getting kiddie fingerz meal again {'entities': [(35, 54, 'FOOD')]}\n",
      "(35, 54, 'FOOD')\n",
      "this place always messes up my order of southern tlc fillet sandwich meal {'entities': [(40, 73, 'FOOD')]}\n",
      "(40, 73, 'FOOD')\n",
      "shrimp sushi are amazing, you have to try it! {'entities': [(0, 12, 'FOOD')]}\n",
      "(0, 12, 'FOOD')\n",
      "my friends and i are never getting xuan asian bowl again {'entities': [(35, 50, 'FOOD')]}\n",
      "(35, 50, 'FOOD')\n",
      "my friends and i are never getting chicken falafel wrap again {'entities': [(35, 55, 'FOOD')]}\n",
      "(35, 55, 'FOOD')\n"
     ]
    },
    {
     "name": "stderr",
     "output_type": "stream",
     "text": [
      "100%|██████████| 50/50 [00:00<00:00, 51.19it/s]\n",
      " 10%|█         | 5/50 [00:00<00:00, 45.30it/s]"
     ]
    },
    {
     "name": "stdout",
     "output_type": "stream",
     "text": [
      "{'ner': 21.227732883635802}\n"
     ]
    },
    {
     "name": "stderr",
     "output_type": "stream",
     "text": [
      "100%|██████████| 50/50 [00:00<00:00, 53.60it/s]\n",
      " 12%|█▏        | 6/50 [00:00<00:00, 54.38it/s]"
     ]
    },
    {
     "name": "stdout",
     "output_type": "stream",
     "text": [
      "{'ner': 5.231936623168715}\n"
     ]
    },
    {
     "name": "stderr",
     "output_type": "stream",
     "text": [
      "100%|██████████| 50/50 [00:00<00:00, 51.29it/s]\n",
      " 10%|█         | 5/50 [00:00<00:01, 44.69it/s]"
     ]
    },
    {
     "name": "stdout",
     "output_type": "stream",
     "text": [
      "{'ner': 1.4842655489341365}\n"
     ]
    },
    {
     "name": "stderr",
     "output_type": "stream",
     "text": [
      "100%|██████████| 50/50 [00:01<00:00, 45.99it/s]\n",
      " 12%|█▏        | 6/50 [00:00<00:00, 52.23it/s]"
     ]
    },
    {
     "name": "stdout",
     "output_type": "stream",
     "text": [
      "{'ner': 9.985267858105914}\n"
     ]
    },
    {
     "name": "stderr",
     "output_type": "stream",
     "text": [
      "100%|██████████| 50/50 [00:00<00:00, 57.99it/s]\n",
      " 12%|█▏        | 6/50 [00:00<00:00, 53.79it/s]"
     ]
    },
    {
     "name": "stdout",
     "output_type": "stream",
     "text": [
      "{'ner': 5.097854206224552}\n"
     ]
    },
    {
     "name": "stderr",
     "output_type": "stream",
     "text": [
      "100%|██████████| 50/50 [00:00<00:00, 55.36it/s]\n",
      " 12%|█▏        | 6/50 [00:00<00:00, 54.32it/s]"
     ]
    },
    {
     "name": "stdout",
     "output_type": "stream",
     "text": [
      "{'ner': 12.706044834124693}\n"
     ]
    },
    {
     "name": "stderr",
     "output_type": "stream",
     "text": [
      "100%|██████████| 50/50 [00:00<00:00, 52.80it/s]\n",
      " 10%|█         | 5/50 [00:00<00:00, 46.00it/s]"
     ]
    },
    {
     "name": "stdout",
     "output_type": "stream",
     "text": [
      "{'ner': 2.3224862289870374}\n"
     ]
    },
    {
     "name": "stderr",
     "output_type": "stream",
     "text": [
      "100%|██████████| 50/50 [00:01<00:00, 38.66it/s]\n",
      "  8%|▊         | 4/50 [00:00<00:01, 36.83it/s]"
     ]
    },
    {
     "name": "stdout",
     "output_type": "stream",
     "text": [
      "{'ner': 4.676873670467758}\n"
     ]
    },
    {
     "name": "stderr",
     "output_type": "stream",
     "text": [
      "100%|██████████| 50/50 [00:01<00:00, 42.20it/s]\n",
      " 10%|█         | 5/50 [00:00<00:01, 41.91it/s]"
     ]
    },
    {
     "name": "stdout",
     "output_type": "stream",
     "text": [
      "{'ner': 5.776936315771391}\n"
     ]
    },
    {
     "name": "stderr",
     "output_type": "stream",
     "text": [
      "100%|██████████| 50/50 [00:01<00:00, 40.37it/s]"
     ]
    },
    {
     "name": "stdout",
     "output_type": "stream",
     "text": [
      "{'ner': 6.140320056753647}\n"
     ]
    },
    {
     "name": "stderr",
     "output_type": "stream",
     "text": [
      "\n"
     ]
    }
   ],
   "source": [
    "for _, annotations in TRAIN_DATA:\n",
    "    print(_, annotations)\n",
    "\n",
    "    for ent in annotations.get('entities'):\n",
    "        print(ent)\n",
    "        ner.add_label(ent[2])\n",
    "\n",
    "other_pipes = [pipe for pipe in nlp.pipe_names if pipe != 'ner']\n",
    "with nlp.disable_pipes(*other_pipes):  # only train NER\n",
    "    optimizer = nlp.begin_training()\n",
    "    for itn in range(n_iter):\n",
    "        random.shuffle(TRAIN_DATA)\n",
    "        losses = {}\n",
    "        for text, annotations in tqdm(TRAIN_DATA):\n",
    "            nlp.update(\n",
    "                [text],  \n",
    "                [annotations],  \n",
    "                drop=0.5,  \n",
    "                sgd=optimizer,\n",
    "                losses=losses)\n",
    "        print(losses)"
   ]
  },
  {
   "cell_type": "markdown",
   "metadata": {},
   "source": [
    "## Test the trained recognizer"
   ]
  },
  {
   "cell_type": "code",
   "execution_count": 50,
   "metadata": {},
   "outputs": [
    {
     "name": "stdout",
     "output_type": "stream",
     "text": [
      "Entities [('turkey tacos', 'FOOD')]\n",
      "Entities [('butter chicken', 'FOOD')]\n",
      "Entities [('double ka meetha', 'FOOD')]\n"
     ]
    }
   ],
   "source": [
    "TEST_DATA = [\n",
    "    ('I love the turkey tacos and ribs here', {\n",
    "        'entities': [(0, 25, 'FOOD')]\n",
    "    }),\n",
    "     ('i like to eat butter chicken', {\n",
    "        'entities': [(0, 12, 'FOOD')]\n",
    "    }),\n",
    "    ('The double ka meetha is awesome here', {\n",
    "        'entities': [(0, 9, 'FOOD')]\n",
    "    })\n",
    "]\n",
    "for text in TEST_DATA:\n",
    "    doc = nlp(text[0])\n",
    "    #print(doc)\n",
    "    print('Entities', [(ent.text, ent.label_) for ent in doc.ents])\n",
    "    #print('Tokens', [(t.text, t.ent_type_, t.ent_iob) for t in doc])"
   ]
  },
  {
   "cell_type": "code",
   "execution_count": null,
   "metadata": {},
   "outputs": [],
   "source": [
    " grilled chicken & ribs box\n",
    "1     chicken soup with noodles\n",
    "2              double ka meetha"
   ]
  },
  {
   "cell_type": "code",
   "execution_count": null,
   "metadata": {},
   "outputs": [],
   "source": [
    "for text, _ in TRAIN_DATA:\n",
    "    doc = nlp(text)\n",
    "    print('Entities', [(ent.text, ent.label_) for ent in doc.ents])\n",
    "    #print('Tokens', [(t.text, t.ent_type_, t.ent_iob) for t in doc])"
   ]
  },
  {
   "cell_type": "markdown",
   "metadata": {},
   "source": [
    "## Save model"
   ]
  },
  {
   "cell_type": "code",
   "execution_count": null,
   "metadata": {},
   "outputs": [],
   "source": [
    "if output_dir is not None:\n",
    "    output_dir = Path(output_dir)\n",
    "    if not output_dir.exists():\n",
    "        output_dir.mkdir()\n",
    "    nlp.to_disk(output_dir)\n",
    "    print(\"Saved model to\", output_dir)"
   ]
  },
  {
   "cell_type": "markdown",
   "metadata": {},
   "source": [
    "## Test the saved model"
   ]
  },
  {
   "cell_type": "code",
   "execution_count": null,
   "metadata": {},
   "outputs": [],
   "source": [
    "print(\"Loading from\", output_dir)\n",
    "nlp2 = spacy.load(output_dir)\n",
    "for text, _ in TRAIN_DATA:\n",
    "    doc = nlp2(text)\n",
    "    print('Entities', [(ent.text, ent.label_) for ent in doc.ents])\n",
    "    print('Tokens', [(t.text, t.ent_type_, t.ent_iob) for t in doc])"
   ]
  },
  {
   "cell_type": "code",
   "execution_count": null,
   "metadata": {},
   "outputs": [],
   "source": []
  }
 ],
 "metadata": {
  "kernelspec": {
   "display_name": "Python 3",
   "language": "python",
   "name": "python3"
  },
  "language_info": {
   "codemirror_mode": {
    "name": "ipython",
    "version": 3
   },
   "file_extension": ".py",
   "mimetype": "text/x-python",
   "name": "python",
   "nbconvert_exporter": "python",
   "pygments_lexer": "ipython3",
   "version": "3.8.0"
  }
 },
 "nbformat": 4,
 "nbformat_minor": 4
}
